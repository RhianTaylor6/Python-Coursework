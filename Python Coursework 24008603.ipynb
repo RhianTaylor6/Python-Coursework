{
 "cells": [
  {
   "cell_type": "markdown",
   "metadata": {},
   "source": [
    "# Python Coursework - JuPyter Notebook\n",
    "## Deadline : 14/12/2018 12:00pm\n",
    "### zq008603, 24008603 - student username and number"
   ]
  },
  {
   "cell_type": "code",
   "execution_count": 2,
   "metadata": {},
   "outputs": [],
   "source": [
    "import pandas as pd\n",
    "%matplotlib inline\n",
    "import scipy\n",
    "import matplotlib.pyplot as plt\n",
    "import numpy as np\n",
    "from scipy.stats import mannwhitneyu\n",
    "import seaborn as sb\n",
    "from scipy.stats import norm\n",
    "from scipy.stats import chisquare\n",
    "import statistics\n",
    "from scipy.stats import ttest_ind\n",
    "from scipy import stats\n",
    "import warnings\n",
    "from scipy.stats import chi2\n",
    "import datetime\n",
    "import calendar\n",
    "from sklearn.mixture import GaussianMixture \n",
    "from collections import Counter\n",
    "from itertools import groupby\n",
    "import networkx as nx\n",
    "from operator import itemgetter\n",
    "\n",
    "\n",
    "bikeData = pd.read_csv(\"metro.csv\")"
   ]
  },
  {
   "cell_type": "markdown",
   "metadata": {},
   "source": [
    "### Load the metro.csv file into a pandas data frame.\n"
   ]
  },
  {
   "cell_type": "code",
   "execution_count": 3,
   "metadata": {},
   "outputs": [
    {
     "data": {
      "text/html": [
       "<div>\n",
       "<style scoped>\n",
       "    .dataframe tbody tr th:only-of-type {\n",
       "        vertical-align: middle;\n",
       "    }\n",
       "\n",
       "    .dataframe tbody tr th {\n",
       "        vertical-align: top;\n",
       "    }\n",
       "\n",
       "    .dataframe thead th {\n",
       "        text-align: right;\n",
       "    }\n",
       "</style>\n",
       "<table border=\"1\" class=\"dataframe\">\n",
       "  <thead>\n",
       "    <tr style=\"text-align: right;\">\n",
       "      <th></th>\n",
       "      <th>trip_id</th>\n",
       "      <th>duration</th>\n",
       "      <th>start_time</th>\n",
       "      <th>end_time</th>\n",
       "      <th>start_station</th>\n",
       "      <th>start_lat</th>\n",
       "      <th>start_lon</th>\n",
       "      <th>end_station</th>\n",
       "      <th>end_lat</th>\n",
       "      <th>end_lon</th>\n",
       "      <th>bike_id</th>\n",
       "      <th>plan_duration</th>\n",
       "      <th>trip_route_category</th>\n",
       "      <th>passholder_type</th>\n",
       "    </tr>\n",
       "  </thead>\n",
       "  <tbody>\n",
       "    <tr>\n",
       "      <th>0</th>\n",
       "      <td>94851140</td>\n",
       "      <td>8</td>\n",
       "      <td>2018-07-01 00:04:00</td>\n",
       "      <td>2018-07-01 00:12:00</td>\n",
       "      <td>3058</td>\n",
       "      <td>34.035801</td>\n",
       "      <td>-118.233170</td>\n",
       "      <td>3082</td>\n",
       "      <td>34.046520</td>\n",
       "      <td>-118.237411</td>\n",
       "      <td>6279</td>\n",
       "      <td>30</td>\n",
       "      <td>One Way</td>\n",
       "      <td>Monthly Pass</td>\n",
       "    </tr>\n",
       "    <tr>\n",
       "      <th>1</th>\n",
       "      <td>94851141</td>\n",
       "      <td>8</td>\n",
       "      <td>2018-07-01 00:04:00</td>\n",
       "      <td>2018-07-01 00:12:00</td>\n",
       "      <td>3058</td>\n",
       "      <td>34.035801</td>\n",
       "      <td>-118.233170</td>\n",
       "      <td>3082</td>\n",
       "      <td>34.046520</td>\n",
       "      <td>-118.237411</td>\n",
       "      <td>6518</td>\n",
       "      <td>365</td>\n",
       "      <td>One Way</td>\n",
       "      <td>Flex Pass</td>\n",
       "    </tr>\n",
       "    <tr>\n",
       "      <th>2</th>\n",
       "      <td>94851138</td>\n",
       "      <td>15</td>\n",
       "      <td>2018-07-01 00:09:00</td>\n",
       "      <td>2018-07-01 00:24:00</td>\n",
       "      <td>4147</td>\n",
       "      <td>34.145248</td>\n",
       "      <td>-118.150070</td>\n",
       "      <td>4174</td>\n",
       "      <td>34.165291</td>\n",
       "      <td>-118.150970</td>\n",
       "      <td>4823</td>\n",
       "      <td>365</td>\n",
       "      <td>One Way</td>\n",
       "      <td>Monthly Pass</td>\n",
       "    </tr>\n",
       "    <tr>\n",
       "      <th>3</th>\n",
       "      <td>94851137</td>\n",
       "      <td>7</td>\n",
       "      <td>2018-07-01 00:22:00</td>\n",
       "      <td>2018-07-01 00:29:00</td>\n",
       "      <td>4157</td>\n",
       "      <td>34.140999</td>\n",
       "      <td>-118.132088</td>\n",
       "      <td>4162</td>\n",
       "      <td>34.147499</td>\n",
       "      <td>-118.148010</td>\n",
       "      <td>6115</td>\n",
       "      <td>30</td>\n",
       "      <td>One Way</td>\n",
       "      <td>Monthly Pass</td>\n",
       "    </tr>\n",
       "    <tr>\n",
       "      <th>4</th>\n",
       "      <td>94851136</td>\n",
       "      <td>35</td>\n",
       "      <td>2018-07-01 00:23:00</td>\n",
       "      <td>2018-07-01 00:58:00</td>\n",
       "      <td>3013</td>\n",
       "      <td>33.779819</td>\n",
       "      <td>-118.263023</td>\n",
       "      <td>3013</td>\n",
       "      <td>33.779819</td>\n",
       "      <td>-118.263023</td>\n",
       "      <td>12055</td>\n",
       "      <td>1</td>\n",
       "      <td>Round Trip</td>\n",
       "      <td>Walk-up</td>\n",
       "    </tr>\n",
       "  </tbody>\n",
       "</table>\n",
       "</div>"
      ],
      "text/plain": [
       "    trip_id  duration           start_time             end_time  \\\n",
       "0  94851140         8  2018-07-01 00:04:00  2018-07-01 00:12:00   \n",
       "1  94851141         8  2018-07-01 00:04:00  2018-07-01 00:12:00   \n",
       "2  94851138        15  2018-07-01 00:09:00  2018-07-01 00:24:00   \n",
       "3  94851137         7  2018-07-01 00:22:00  2018-07-01 00:29:00   \n",
       "4  94851136        35  2018-07-01 00:23:00  2018-07-01 00:58:00   \n",
       "\n",
       "   start_station  start_lat   start_lon  end_station    end_lat     end_lon  \\\n",
       "0           3058  34.035801 -118.233170         3082  34.046520 -118.237411   \n",
       "1           3058  34.035801 -118.233170         3082  34.046520 -118.237411   \n",
       "2           4147  34.145248 -118.150070         4174  34.165291 -118.150970   \n",
       "3           4157  34.140999 -118.132088         4162  34.147499 -118.148010   \n",
       "4           3013  33.779819 -118.263023         3013  33.779819 -118.263023   \n",
       "\n",
       "   bike_id  plan_duration trip_route_category passholder_type  \n",
       "0     6279             30             One Way    Monthly Pass  \n",
       "1     6518            365             One Way       Flex Pass  \n",
       "2     4823            365             One Way    Monthly Pass  \n",
       "3     6115             30             One Way    Monthly Pass  \n",
       "4    12055              1          Round Trip         Walk-up  "
      ]
     },
     "execution_count": 3,
     "metadata": {},
     "output_type": "execute_result"
    }
   ],
   "source": [
    "bikeData.head()"
   ]
  },
  {
   "cell_type": "markdown",
   "metadata": {},
   "source": [
    "### Find a sensible way to remove the missing values from the data frame, and explain why you have chosen this method.\n"
   ]
  },
  {
   "cell_type": "code",
   "execution_count": 4,
   "metadata": {},
   "outputs": [
    {
     "data": {
      "text/plain": [
       "trip_id                False\n",
       "duration               False\n",
       "start_time             False\n",
       "end_time               False\n",
       "start_station          False\n",
       "start_lat               True\n",
       "start_lon               True\n",
       "end_station            False\n",
       "end_lat                 True\n",
       "end_lon                 True\n",
       "bike_id                False\n",
       "plan_duration          False\n",
       "trip_route_category    False\n",
       "passholder_type        False\n",
       "dtype: bool"
      ]
     },
     "execution_count": 4,
     "metadata": {},
     "output_type": "execute_result"
    }
   ],
   "source": [
    "bikeData.isnull().any()"
   ]
  },
  {
   "cell_type": "markdown",
   "metadata": {},
   "source": [
    "<div class=\"alert alert-block alert-info\">\n",
    "<b>Null's found:</b> There are NaN's present in the start_lat, start_lon, end_lat and end_lon columns.\n",
    "</div>"
   ]
  },
  {
   "cell_type": "code",
   "execution_count": 5,
   "metadata": {},
   "outputs": [
    {
     "data": {
      "text/plain": [
       "start_lat     559\n",
       "start_lon     559\n",
       "end_lat      1838\n",
       "end_lon      1838\n",
       "dtype: int64"
      ]
     },
     "execution_count": 5,
     "metadata": {},
     "output_type": "execute_result"
    }
   ],
   "source": [
    "#counting null \n",
    "#source [1]\n",
    "nullColumns = bikeData.columns[bikeData.isnull().any()]\n",
    "bikeData[nullColumns].isnull().sum()"
   ]
  },
  {
   "cell_type": "code",
   "execution_count": 6,
   "metadata": {
    "scrolled": true
   },
   "outputs": [
    {
     "data": {
      "text/plain": [
       "trip_id                False\n",
       "duration               False\n",
       "start_time             False\n",
       "end_time               False\n",
       "start_station          False\n",
       "start_lat              False\n",
       "start_lon              False\n",
       "end_station            False\n",
       "end_lat                False\n",
       "end_lon                False\n",
       "bike_id                False\n",
       "plan_duration          False\n",
       "trip_route_category    False\n",
       "passholder_type        False\n",
       "dtype: bool"
      ]
     },
     "execution_count": 6,
     "metadata": {},
     "output_type": "execute_result"
    }
   ],
   "source": [
    "#dropna drops rows with missing values from the data frame\n",
    "bikeDataNoNull = bikeData.dropna()\n",
    "bikeDataNoNull.isnull().any()"
   ]
  },
  {
   "cell_type": "markdown",
   "metadata": {},
   "source": [
    "<div class=\"alert alert-block alert-success\">\n",
    "<b>Null's Removed:</b> There are no longer any NaN's present in the dataset.\n",
    "</div>"
   ]
  },
  {
   "cell_type": "markdown",
   "metadata": {},
   "source": [
    "#### Choosing dropna()\n",
    "\n",
    "Pandas have built in functions that allow for the handling of \"missing\" data. In this data set the missing data is represented by NaNs but NA(not available) is another valid representation. In order to clean the metro dataset the dropna() function was used. This excluded labels from the data set which referred to any missing data by determining the rows/columns which contains missing values and removing them. As is shown above there were null values in the data set in the start/end lon and lat columns. The dropna() function will remove rows that contain any NaNs/NA values which is what was needed in this case. The return value of the function is the dataframe minus the NaNs/NA entries which was then carried forward as the main dataframe for the remainder of the notebook.\n",
    "\n",
    " source [2]"
   ]
  },
  {
   "cell_type": "markdown",
   "metadata": {},
   "source": [
    "### Explore the distribution of the duration variable. \n",
    "#### You should produce a plot visualising the distribution, and calculate and discuss briefly statistics of the variable.\n"
   ]
  },
  {
   "cell_type": "code",
   "execution_count": 7,
   "metadata": {},
   "outputs": [
    {
     "data": {
      "image/png": "[encoded data removed]",
      "text/plain": [
       "<Figure size 1080x504 with 1 Axes>"
      ]
     },
     "metadata": {
      "needs_background": "light"
     },
     "output_type": "display_data"
    }
   ],
   "source": [
    "#bins - number of groups/bars\n",
    "bikeDataNoNull['duration'].plot.hist(logy = True, bins = 200, figsize=[15,7])\n",
    "plt.xlabel(\"Duration\")\n",
    "plt.ylabel(\"Frequency (log)\")\n",
    "plt.title('Duration Distribution');"
   ]
  },
  {
   "cell_type": "code",
   "execution_count": 8,
   "metadata": {},
   "outputs": [
    {
     "data": {
      "text/plain": [
       "count    93199.000000\n",
       "mean        39.150903\n",
       "std        106.635812\n",
       "min          1.000000\n",
       "25%          7.000000\n",
       "50%         14.000000\n",
       "75%         33.000000\n",
       "max       1440.000000\n",
       "Name: duration, dtype: float64"
      ]
     },
     "execution_count": 8,
     "metadata": {},
     "output_type": "execute_result"
    }
   ],
   "source": [
    "bikeDataNoNull['duration'].describe()"
   ]
  },
  {
   "cell_type": "code",
   "execution_count": 9,
   "metadata": {},
   "outputs": [
    {
     "data": {
      "text/plain": [
       "11371.074407469756"
      ]
     },
     "execution_count": 9,
     "metadata": {},
     "output_type": "execute_result"
    }
   ],
   "source": [
    "np.var(bikeDataNoNull['duration'])"
   ]
  },
  {
   "cell_type": "markdown",
   "metadata": {},
   "source": [
    "#### Duration Variable Statistic Discussion\n",
    "\n",
    "The mean duration of the journeys in the metro data set is 39 minutes  when rounded to an integer. This is being heavily influenced by outliers as the median shows that most journeys are under 14 minutes. This is a result of a skewed distribution which is also causing a high standard deviation. \n"
   ]
  },
  {
   "cell_type": "markdown",
   "metadata": {},
   "source": [
    "### Produce a plot showing how the distribution of duration relates to passholder type.\n"
   ]
  },
  {
   "cell_type": "code",
   "execution_count": 10,
   "metadata": {},
   "outputs": [
    {
     "data": {
      "image/png": "[encoded data removed]",
      "text/plain": [
       "<Figure size 1080x504 with 1 Axes>"
      ]
     },
     "metadata": {
      "needs_background": "light"
     },
     "output_type": "display_data"
    }
   ],
   "source": [
    "pivot = bikeDataNoNull.pivot_table(index='trip_id',columns='passholder_type',values='duration')\n",
    "pivot.plot.box(logy = True, figsize=[15,7])\n",
    "plt.xlabel(\"Pass Type\")\n",
    "plt.ylabel(\"Duration (log)\")\n",
    "plt.title('Box Plot visualising the relationship between the duration distribution and passholder type');"
   ]
  },
  {
   "cell_type": "markdown",
   "metadata": {},
   "source": [
    "<div class=\"alert alert-block alert-info\">\n",
    "<b>Box Plot:</b> The above box plot effectively visualises the duration distribution for each passholder type.\n",
    "</div>"
   ]
  },
  {
   "cell_type": "markdown",
   "metadata": {},
   "source": [
    "### Perform an appropriate statistical test to check if the mean duration is different between One Day Pass and Flex Pass passholders. \n",
    "#### What assumptions have you made by using this test?\n"
   ]
  },
  {
   "cell_type": "code",
   "execution_count": 11,
   "metadata": {},
   "outputs": [
    {
     "data": {
      "text/plain": [
       "passholder_type\n",
       "Annual Pass     40.500000\n",
       "Flex Pass       18.562580\n",
       "Monthly Pass    15.830054\n",
       "One Day Pass    66.518785\n",
       "Walk-up         59.927580\n",
       "Name: duration, dtype: float64"
      ]
     },
     "execution_count": 11,
     "metadata": {},
     "output_type": "execute_result"
    }
   ],
   "source": [
    "durationMean = bikeDataNoNull.groupby('passholder_type')['duration'].mean()\n",
    "durationMean"
   ]
  },
  {
   "cell_type": "code",
   "execution_count": 12,
   "metadata": {},
   "outputs": [],
   "source": [
    "flex = bikeDataNoNull.groupby('passholder_type')['duration'].get_group('Flex Pass')\n",
    "one = bikeDataNoNull.groupby('passholder_type')['duration'].get_group('One Day Pass')"
   ]
  },
  {
   "cell_type": "code",
   "execution_count": 13,
   "metadata": {},
   "outputs": [
    {
     "name": "stdout",
     "output_type": "stream",
     "text": [
      "f:18.56, o:66.52\n"
     ]
    }
   ],
   "source": [
    "passMean = bikeDataNoNull.groupby('passholder_type')['duration'].mean()\n",
    "flexPass = round(passMean[1],2)\n",
    "oneDay = round(passMean[3],2)\n",
    "\n",
    "print(\"f:\" + str(flexPass) + \", o:\" + str(oneDay))\n",
    "\n",
    "\n"
   ]
  },
  {
   "cell_type": "code",
   "execution_count": 14,
   "metadata": {},
   "outputs": [
    {
     "data": {
      "text/plain": [
       "7.9422977182875e-47"
      ]
     },
     "execution_count": 14,
     "metadata": {},
     "output_type": "execute_result"
    }
   ],
   "source": [
    "testST = ttest_ind(flex, one)\n",
    "#test.statistic\n",
    "testST.pvalue"
   ]
  },
  {
   "cell_type": "code",
   "execution_count": 15,
   "metadata": {},
   "outputs": [
    {
     "data": {
      "text/plain": [
       "-14.495319337859621"
      ]
     },
     "execution_count": 15,
     "metadata": {},
     "output_type": "execute_result"
    }
   ],
   "source": [
    "testST.statistic"
   ]
  },
  {
   "cell_type": "code",
   "execution_count": 16,
   "metadata": {},
   "outputs": [
    {
     "data": {
      "text/plain": [
       "1.089459637342107e-298"
      ]
     },
     "execution_count": 16,
     "metadata": {},
     "output_type": "execute_result"
    }
   ],
   "source": [
    "testMW = mannwhitneyu(flex, one)\n",
    "testMW.pvalue"
   ]
  },
  {
   "cell_type": "code",
   "execution_count": 17,
   "metadata": {},
   "outputs": [
    {
     "data": {
      "text/plain": [
       "1300630.5"
      ]
     },
     "execution_count": 17,
     "metadata": {},
     "output_type": "execute_result"
    }
   ],
   "source": [
    "testMW.statistic"
   ]
  },
  {
   "cell_type": "markdown",
   "metadata": {},
   "source": [
    "<div class=\"alert alert-block alert-danger\">\n",
    "<b>Student T-Test:</b> \n",
    "The first test that was attempted to assess whether the mean duration of journeys for One Day Pass and Flex Pass passholders. \n",
    "\n",
    "Student T Test Assumptions:\n",
    "1. X and Y approximately follow a normal distribution.\n",
    "2. X and Y have the same variance.\n",
    "\n",
    "As is evident from the duration distribution plot this variable does not follow a normal distribution and therefore this is not an appropriate test for this data. \n",
    "</div>"
   ]
  },
  {
   "cell_type": "markdown",
   "metadata": {},
   "source": [
    "<div class=\"alert alert-block alert-success\">\n",
    "<b>Mann Whitney-U:</b> An appropriate test for this data is the Mann-Whitney U test as it is a non-parametric test: it does not assume the distribution is normal, therefor no assumptions are made. This test determines whether two independent samples have the same distribution.\n",
    "\n",
    "The p-value that is returned by the Mann-Whitney U test is so small that it shows a high possibility that these two samples have the same distribution.\n",
    "</div>"
   ]
  },
  {
   "cell_type": "markdown",
   "metadata": {},
   "source": [
    "### Convert the start_time and end_time columns to date objects if they are not already.\n"
   ]
  },
  {
   "cell_type": "code",
   "execution_count": 18,
   "metadata": {},
   "outputs": [
    {
     "data": {
      "text/plain": [
       "trip_id                  int64\n",
       "duration                 int64\n",
       "start_time              object\n",
       "end_time                object\n",
       "start_station            int64\n",
       "start_lat              float64\n",
       "start_lon              float64\n",
       "end_station              int64\n",
       "end_lat                float64\n",
       "end_lon                float64\n",
       "bike_id                  int64\n",
       "plan_duration            int64\n",
       "trip_route_category     object\n",
       "passholder_type         object\n",
       "dtype: object"
      ]
     },
     "execution_count": 18,
     "metadata": {},
     "output_type": "execute_result"
    }
   ],
   "source": [
    "bikeDataNoNull.dtypes"
   ]
  },
  {
   "cell_type": "markdown",
   "metadata": {},
   "source": [
    "<div class=\"alert alert-block alert-info\">\n",
    "<b>Before:</b> The start_time and end_time columns are object types.\n",
    "</div>"
   ]
  },
  {
   "cell_type": "code",
   "execution_count": 44,
   "metadata": {},
   "outputs": [],
   "source": [
    "bikeDataNoNull['end_time'] = pd.to_datetime(bikeDataNoNull['end_time'])\n",
    "bikeDataNoNull['start_time'] = pd.to_datetime(bikeDataNoNull['start_time'])"
   ]
  },
  {
   "cell_type": "code",
   "execution_count": 20,
   "metadata": {},
   "outputs": [
    {
     "data": {
      "text/plain": [
       "trip_id                         int64\n",
       "duration                        int64\n",
       "start_time             datetime64[ns]\n",
       "end_time               datetime64[ns]\n",
       "start_station                   int64\n",
       "start_lat                     float64\n",
       "start_lon                     float64\n",
       "end_station                     int64\n",
       "end_lat                       float64\n",
       "end_lon                       float64\n",
       "bike_id                         int64\n",
       "plan_duration                   int64\n",
       "trip_route_category            object\n",
       "passholder_type                object\n",
       "dtype: object"
      ]
     },
     "execution_count": 20,
     "metadata": {},
     "output_type": "execute_result"
    }
   ],
   "source": [
    "bikeDataNoNull.dtypes"
   ]
  },
  {
   "cell_type": "markdown",
   "metadata": {},
   "source": [
    "<div class=\"alert alert-block alert-success\">\n",
    "<b>After:</b> The start_time and end_time columns are now date time objects.\n",
    "</div>"
   ]
  },
  {
   "cell_type": "markdown",
   "metadata": {},
   "source": [
    "### Create a new column in the data frame that gives the hour of the day that each journey started on.\n"
   ]
  },
  {
   "cell_type": "code",
   "execution_count": 21,
   "metadata": {},
   "outputs": [
    {
     "data": {
      "text/html": [
       "<div>\n",
       "<style scoped>\n",
       "    .dataframe tbody tr th:only-of-type {\n",
       "        vertical-align: middle;\n",
       "    }\n",
       "\n",
       "    .dataframe tbody tr th {\n",
       "        vertical-align: top;\n",
       "    }\n",
       "\n",
       "    .dataframe thead th {\n",
       "        text-align: right;\n",
       "    }\n",
       "</style>\n",
       "<table border=\"1\" class=\"dataframe\">\n",
       "  <thead>\n",
       "    <tr style=\"text-align: right;\">\n",
       "      <th></th>\n",
       "      <th>trip_id</th>\n",
       "      <th>start_time</th>\n",
       "      <th>start_hour</th>\n",
       "    </tr>\n",
       "  </thead>\n",
       "  <tbody>\n",
       "    <tr>\n",
       "      <th>0</th>\n",
       "      <td>94851140</td>\n",
       "      <td>2018-07-01 00:04:00</td>\n",
       "      <td>0</td>\n",
       "    </tr>\n",
       "    <tr>\n",
       "      <th>1</th>\n",
       "      <td>94851141</td>\n",
       "      <td>2018-07-01 00:04:00</td>\n",
       "      <td>0</td>\n",
       "    </tr>\n",
       "    <tr>\n",
       "      <th>2</th>\n",
       "      <td>94851138</td>\n",
       "      <td>2018-07-01 00:09:00</td>\n",
       "      <td>0</td>\n",
       "    </tr>\n",
       "    <tr>\n",
       "      <th>3</th>\n",
       "      <td>94851137</td>\n",
       "      <td>2018-07-01 00:22:00</td>\n",
       "      <td>0</td>\n",
       "    </tr>\n",
       "    <tr>\n",
       "      <th>4</th>\n",
       "      <td>94851136</td>\n",
       "      <td>2018-07-01 00:23:00</td>\n",
       "      <td>0</td>\n",
       "    </tr>\n",
       "  </tbody>\n",
       "</table>\n",
       "</div>"
      ],
      "text/plain": [
       "    trip_id          start_time  start_hour\n",
       "0  94851140 2018-07-01 00:04:00           0\n",
       "1  94851141 2018-07-01 00:04:00           0\n",
       "2  94851138 2018-07-01 00:09:00           0\n",
       "3  94851137 2018-07-01 00:22:00           0\n",
       "4  94851136 2018-07-01 00:23:00           0"
      ]
     },
     "execution_count": 21,
     "metadata": {},
     "output_type": "execute_result"
    }
   ],
   "source": [
    "bikeDataNoNull = bikeDataNoNull.assign(start_hour=bikeDataNoNull.start_time.dt.hour)\n",
    "bikeData1 = bikeDataNoNull[['trip_id','start_time','start_hour']]\n",
    "bikeData1.head()"
   ]
  },
  {
   "cell_type": "markdown",
   "metadata": {},
   "source": [
    "### Explore how the duration variable varies between each journey starting hour of the day, creating a plot to visualise this.\n"
   ]
  },
  {
   "cell_type": "code",
   "execution_count": 45,
   "metadata": {},
   "outputs": [
    {
     "data": {
      "image/png": "[encoded data removed]",
      "text/plain": [
       "<Figure size 1080x504 with 1 Axes>"
      ]
     },
     "metadata": {
      "needs_background": "light"
     },
     "output_type": "display_data"
    }
   ],
   "source": [
    "#source [3]\n",
    "bikeData2 = bikeDataNoNull[['duration','start_hour']]\n",
    "duration1 = bikeDataNoNull.groupby('start_hour')['duration'].mean()\n",
    "bikeData2.plot.scatter(x='start_hour',y='duration', logy = True, label = 'Start hour - duration')\n",
    "plt.rcParams[\"figure.figsize\"] = [15, 7]\n",
    "plt.plot( duration1,'g-', label = 'Mean Duration')\n",
    "plt.legend(loc='best')\n",
    "plt.title('Scatter Plot showing the duration of each journey in each starting hour with a mean journey duration line');"
   ]
  },
  {
   "cell_type": "markdown",
   "metadata": {},
   "source": [
    "<div class=\"alert alert-block alert-info\">\n",
    "<b>Start hour and duration:</b> The plot above shows that the average duration of a journey is quite consistent across the possible start hours, dipping slightly between 5am and 10am.\n",
    "</div>"
   ]
  },
  {
   "cell_type": "code",
   "execution_count": 23,
   "metadata": {},
   "outputs": [
    {
     "data": {
      "text/plain": [
       "100.65421616436107"
      ]
     },
     "execution_count": 23,
     "metadata": {},
     "output_type": "execute_result"
    }
   ],
   "source": [
    "np.var(duration1)"
   ]
  },
  {
   "cell_type": "markdown",
   "metadata": {},
   "source": [
    "### Explore how the distribution of the duration variable varies between each day of the week, creating a plot to visualise this.\n"
   ]
  },
  {
   "cell_type": "code",
   "execution_count": 24,
   "metadata": {},
   "outputs": [],
   "source": [
    "bikeDataNoNull = bikeDataNoNull.assign(weekday=bikeDataNoNull['start_time'].dt.day_name())\n"
   ]
  },
  {
   "cell_type": "code",
   "execution_count": 25,
   "metadata": {},
   "outputs": [
    {
     "data": {
      "image/png": "[encoded data removed]",
      "text/plain": [
       "<Figure size 1080x504 with 1 Axes>"
      ]
     },
     "metadata": {
      "needs_background": "light"
     },
     "output_type": "display_data"
    }
   ],
   "source": [
    "bikeData3 = bikeDataNoNull[['duration','weekday']]\n",
    "day = bikeDataNoNull.groupby('weekday')['duration'].mean().reindex([\"Monday\", \"Tuesday\", \"Wednesday\", \"Thursday\", \"Friday\", \"Saturday\", \"Sunday\"])\n",
    "plt.rcParams[\"figure.figsize\"] = [15, 7]\n",
    "plt.plot( day,'g-', label = 'Mean Duration')\n",
    "plt.legend(loc='best')\n",
    "plt.xlabel(\"Weekday\")\n",
    "plt.ylabel(\"Duration\")\n",
    "plt.title('Plot showing the mean journey duration per weekday');"
   ]
  },
  {
   "cell_type": "markdown",
   "metadata": {},
   "source": [
    "<div class=\"alert alert-block alert-info\">\n",
    "<b>Explore Distribution:</b> It is evident from the chart above that the longest journeys tend to take place on the weekends with shorter journeys taking place during the week. This data could suggest that weekday journeys tend to be commutes as they average around 30-40minutes whereas weekend journeys are for leisure purpoise as they average between 50-55minutes.\n",
    "</div>\n"
   ]
  },
  {
   "cell_type": "markdown",
   "metadata": {},
   "source": [
    "### Calculate the total numbers of passholders of each type travelling on each week day. \n",
    "#### Discuss the results."
   ]
  },
  {
   "cell_type": "code",
   "execution_count": 26,
   "metadata": {},
   "outputs": [
    {
     "data": {
      "text/plain": [
       "weekday    passholder_type\n",
       "Monday     Flex Pass           216\n",
       "           Monthly Pass       6818\n",
       "           One Day Pass        538\n",
       "           Walk-up            5235\n",
       "Tuesday    Flex Pass           235\n",
       "           Monthly Pass       7313\n",
       "           One Day Pass        447\n",
       "           Walk-up            4960\n",
       "Wednesday  Flex Pass           234\n",
       "           Monthly Pass       6958\n",
       "           One Day Pass        566\n",
       "           Walk-up            5236\n",
       "Thursday   Flex Pass           244\n",
       "           Monthly Pass       7150\n",
       "           One Day Pass        404\n",
       "           Walk-up            5432\n",
       "Friday     Flex Pass           262\n",
       "           Monthly Pass       6711\n",
       "           One Day Pass        530\n",
       "           Walk-up            6161\n",
       "Saturday   Annual Pass           9\n",
       "           Flex Pass           177\n",
       "           Monthly Pass       4027\n",
       "           One Day Pass        845\n",
       "           Walk-up            8399\n",
       "Sunday     Annual Pass           1\n",
       "           Flex Pass           198\n",
       "           Monthly Pass       4125\n",
       "           One Day Pass       1115\n",
       "           Walk-up            8653\n",
       "dtype: int64"
      ]
     },
     "execution_count": 26,
     "metadata": {},
     "output_type": "execute_result"
    }
   ],
   "source": [
    "week = ['Monday', 'Tuesday', 'Wednesday', 'Thursday', 'Friday', 'Saturday', 'Sunday']\n",
    "passtype = ['Flex Pass','Monthly Pass','One Day Pass','Walk-up','Annual Pass']\n",
    "grouped = bikeDataNoNull.groupby(['weekday','passholder_type'],as_index=False).size().reindex(['Monday','Tuesday','Wednesday','Thursday','Friday','Saturday', 'Sunday'], level='weekday')\n",
    "grouped"
   ]
  },
  {
   "cell_type": "code",
   "execution_count": 27,
   "metadata": {},
   "outputs": [
    {
     "data": {
      "image/png": "[encoded data removed]",
      "text/plain": [
       "<Figure size 1080x504 with 1 Axes>"
      ]
     },
     "metadata": {
      "needs_background": "light"
     },
     "output_type": "display_data"
    }
   ],
   "source": [
    "#source [4]\n",
    "fig, ax = plt.subplots(figsize=(15,7))\n",
    "#plt.ylim(0,8700)\n",
    "x = np.array([0,1,2,3,4,5,6])\n",
    "plt.xticks(x, week)\n",
    "plt.ylabel(\"Number of Journeys\")\n",
    "plt.title('Plot showing the number of journeys made by each passholder type per weekday');\n",
    "grouped.unstack().plot(ax=ax);"
   ]
  },
  {
   "cell_type": "code",
   "execution_count": 28,
   "metadata": {},
   "outputs": [
    {
     "data": {
      "image/png": "[encoded data removed]",
      "text/plain": [
       "<Figure size 1080x504 with 1 Axes>"
      ]
     },
     "metadata": {
      "needs_background": "light"
     },
     "output_type": "display_data"
    }
   ],
   "source": [
    "df = grouped.to_frame(name = 'size')\n",
    "pivot2 = df.pivot_table(index='weekday',columns='passholder_type',values='size')\n",
    "pivot2.plot.bar(logy=True,figsize = [15,7])\n",
    "plt.ylabel(\"Number of Journeys\")\n",
    "plt.title('Plot showing the number of journeys made by each passholder type per weekday');"
   ]
  },
  {
   "cell_type": "markdown",
   "metadata": {},
   "source": [
    "<div class=\"alert alert-block alert-warning\">\n",
    "<b>Y-Axis:</b> The above charts are plotting the same data however the Y-axis is different. The bar chart has log(y) values on the Y-axis to be able to see the Annual Passholder type more clearly whereas the line chart does not in order to visualise the spikes and dips in the number of journeys more clearly.\n",
    "</div>"
   ]
  },
  {
   "cell_type": "markdown",
   "metadata": {},
   "source": [
    "#### Discuss Results\n",
    "We can see from the charts above that the number of journeys made by each passholder type on any given weekday varies.\n",
    "\n",
    "Both Flex and One day pass holders tend to do the least amount of journeys consistently with Flex passholder jurney numbers rising on the weekend to spike on Sundays, whereas One day passholders stay at a consistent level throughout the week. Annual Passholders, surprisingly, do the least amount of journeys of all passholders and ride only on the weekend, mostly on Saturdays. When the y axis values are not in log form the Annual passholder journeys are so insignificant you cannot see them on the bar chart at all.\n",
    "\n",
    "Walk-up passholders cycle at a consistent mid-level throughought the week with a major spike on the weekends. At the weekends it is walk-up passholders that complete the most journeys of any other passholder by roughly double. This pattern of use could suggest that the majority of walk-up passholders use the bikes for leisure purposes on the weekends with a consistent few using them to commute during the week.\n",
    "\n",
    "Throughout the week monthly passholders complete a high number of journeys consistently dipping significantly on the weekend. This pattern of use suggests the monthly passholders use the bikes for commuting which is why we see that dip on weekends."
   ]
  },
  {
   "cell_type": "markdown",
   "metadata": {},
   "source": [
    "### Consider the data as a network of stations, with edges having weights corresponding to the total number of journeys made between them (at any time).\n",
    "#### - Produce a visualisation of the network and discuss the output.\n",
    "#### - Calculate statistics of the network, plot them where relevant, and discuss the results."
   ]
  },
  {
   "cell_type": "code",
   "execution_count": 29,
   "metadata": {},
   "outputs": [],
   "source": [
    "startEnd = bikeDataNoNull[['start_station','end_station']]\n",
    "startEnd1 = startEnd.groupby(['start_station','end_station']).size()\n",
    "tuples = [tuple(x) for x in startEnd.values]"
   ]
  },
  {
   "cell_type": "code",
   "execution_count": 30,
   "metadata": {},
   "outputs": [],
   "source": [
    "startStation=bikeDataNoNull['start_station']\n",
    "stations = []\n",
    "\n",
    "for i in startStation:\n",
    "    if i not in stations:\n",
    "        stations.append(i)\n"
   ]
  },
  {
   "cell_type": "code",
   "execution_count": 31,
   "metadata": {},
   "outputs": [
    {
     "data": {
      "text/plain": [
       "[(3058, 3082, {'weight': 257}),\n",
       " (3058, 3031, {'weight': 61}),\n",
       " (3058, 3022, {'weight': 163}),\n",
       " (3058, 3079, {'weight': 1}),\n",
       " (3058, 3006, {'weight': 17}),\n",
       " (3058, 3054, {'weight': 19}),\n",
       " (3058, 3010, {'weight': 56}),\n",
       " (3058, 3036, {'weight': 62}),\n",
       " (3058, 3048, {'weight': 77}),\n",
       " (3058, 3063, {'weight': 9}),\n",
       " (3058, 3005, {'weight': 66}),\n",
       " (3058, 3066, {'weight': 13}),\n",
       " (3058, 3045, {'weight': 7}),\n",
       " (3058, 3064, {'weight': 19}),\n",
       " (3058, 3042, {'weight': 56}),\n",
       " (3058, 3032, {'weight': 2}),\n",
       " (3058, 3055, {'weight': 14}),\n",
       " (3058, 3029, {'weight': 21}),\n",
       " (3058, 3030, {'weight': 15}),\n",
       " (3058, 3046, {'weight': 12}),\n",
       " (3058, 3035, {'weight': 8}),\n",
       " (3058, 3038, {'weight': 31}),\n",
       " (3058, 3058, {'weight': 88}),\n",
       " (3058, 3047, {'weight': 5}),\n",
       " (3058, 3068, {'weight': 12}),\n",
       " (3058, 3051, {'weight': 5}),\n",
       " (3058, 3075, {'weight': 8}),\n",
       " (3058, 3067, {'weight': 15}),\n",
       " (3058, 3008, {'weight': 9}),\n",
       " (3058, 3076, {'weight': 6}),\n",
       " (3058, 3052, {'weight': 1}),\n",
       " (3058, 3027, {'weight': 5}),\n",
       " (3058, 3014, {'weight': 28}),\n",
       " (3058, 3037, {'weight': 15}),\n",
       " (3058, 4245, {'weight': 1}),\n",
       " (3058, 3069, {'weight': 14}),\n",
       " (3058, 3019, {'weight': 1}),\n",
       " (3058, 3065, {'weight': 7}),\n",
       " (3058, 3034, {'weight': 1}),\n",
       " (3058, 3081, {'weight': 6}),\n",
       " (3058, 3040, {'weight': 2}),\n",
       " (3058, 3077, {'weight': 14}),\n",
       " (3058, 3023, {'weight': 13}),\n",
       " (3058, 4220, {'weight': 2}),\n",
       " (3058, 3078, {'weight': 3}),\n",
       " (3058, 3033, {'weight': 6}),\n",
       " (3058, 3074, {'weight': 2}),\n",
       " (3058, 3018, {'weight': 2}),\n",
       " (3058, 3011, {'weight': 5}),\n",
       " (3058, 3007, {'weight': 2}),\n",
       " (3058, 3049, {'weight': 7}),\n",
       " (3058, 4250, {'weight': 1}),\n",
       " (3058, 3062, {'weight': 2}),\n",
       " (3082, 3029, {'weight': 217}),\n",
       " (3082, 3007, {'weight': 87}),\n",
       " (3082, 3038, {'weight': 160}),\n",
       " (3082, 3034, {'weight': 31}),\n",
       " (3082, 3063, {'weight': 105}),\n",
       " (3082, 3042, {'weight': 72}),\n",
       " (3082, 3068, {'weight': 106}),\n",
       " (3082, 3008, {'weight': 36}),\n",
       " (3082, 3037, {'weight': 151}),\n",
       " (3082, 3079, {'weight': 2}),\n",
       " (3082, 3005, {'weight': 203}),\n",
       " (3082, 3027, {'weight': 74}),\n",
       " (3082, 3014, {'weight': 216}),\n",
       " (3082, 3062, {'weight': 55}),\n",
       " (3082, 3006, {'weight': 121}),\n",
       " (3082, 3031, {'weight': 130}),\n",
       " (3082, 3075, {'weight': 49}),\n",
       " (3082, 3036, {'weight': 128}),\n",
       " (3082, 3064, {'weight': 106}),\n",
       " (3082, 3030, {'weight': 247}),\n",
       " (3082, 3082, {'weight': 262}),\n",
       " (3082, 3022, {'weight': 207}),\n",
       " (3082, 3018, {'weight': 69}),\n",
       " (3082, 3019, {'weight': 19}),\n",
       " (3082, 3046, {'weight': 93}),\n",
       " (3082, 3077, {'weight': 19}),\n",
       " (3082, 3065, {'weight': 15}),\n",
       " (3082, 3055, {'weight': 72}),\n",
       " (3082, 3024, {'weight': 10}),\n",
       " (3082, 3032, {'weight': 26}),\n",
       " (3082, 3011, {'weight': 13}),\n",
       " (3082, 3081, {'weight': 48}),\n",
       " (3082, 3033, {'weight': 13}),\n",
       " (3082, 3074, {'weight': 47}),\n",
       " (3082, 3010, {'weight': 2}),\n",
       " (3082, 3069, {'weight': 234}),\n",
       " (3082, 3051, {'weight': 83}),\n",
       " (3082, 3048, {'weight': 178}),\n",
       " (3082, 3035, {'weight': 41}),\n",
       " (3082, 3066, {'weight': 32}),\n",
       " (3082, 3016, {'weight': 35}),\n",
       " (3082, 3047, {'weight': 10}),\n",
       " (3082, 3054, {'weight': 122}),\n",
       " (3082, 3067, {'weight': 82}),\n",
       " (3082, 3023, {'weight': 125}),\n",
       " (3082, 3049, {'weight': 55}),\n",
       " (3082, 3078, {'weight': 12}),\n",
       " (3082, 3026, {'weight': 9}),\n",
       " (3082, 3040, {'weight': 10}),\n",
       " (3082, 4220, {'weight': 10}),\n",
       " (3082, 3045, {'weight': 3}),\n",
       " (3082, 3052, {'weight': 26}),\n",
       " (3082, 3056, {'weight': 6}),\n",
       " (3082, 3028, {'weight': 7}),\n",
       " (3082, 3076, {'weight': 17}),\n",
       " (3082, 3025, {'weight': 16}),\n",
       " (3082, 4250, {'weight': 1}),\n",
       " (3082, 4249, {'weight': 6}),\n",
       " (3082, 4227, {'weight': 1}),\n",
       " (4147, 4174, {'weight': 9}),\n",
       " (4147, 4163, {'weight': 2}),\n",
       " (4147, 4147, {'weight': 29}),\n",
       " (4147, 4148, {'weight': 4}),\n",
       " (4147, 4169, {'weight': 17}),\n",
       " (4147, 4170, {'weight': 6}),\n",
       " (4147, 4150, {'weight': 12}),\n",
       " (4147, 4183, {'weight': 4}),\n",
       " (4147, 4181, {'weight': 9}),\n",
       " (4147, 4160, {'weight': 13}),\n",
       " (4147, 4142, {'weight': 23}),\n",
       " (4147, 4151, {'weight': 24}),\n",
       " (4147, 4152, {'weight': 7}),\n",
       " (4147, 4149, {'weight': 19}),\n",
       " (4147, 4154, {'weight': 3}),\n",
       " (4147, 4153, {'weight': 1}),\n",
       " (4147, 4146, {'weight': 9}),\n",
       " (4147, 4138, {'weight': 12}),\n",
       " (4147, 4177, {'weight': 19}),\n",
       " (4147, 4157, {'weight': 1}),\n",
       " (4147, 4165, {'weight': 13}),\n",
       " (4147, 4144, {'weight': 10}),\n",
       " (4147, 4156, {'weight': 3}),\n",
       " (4147, 4155, {'weight': 1}),\n",
       " (4147, 4167, {'weight': 9}),\n",
       " (4147, 4158, {'weight': 9}),\n",
       " (4147, 4180, {'weight': 2}),\n",
       " (4147, 4176, {'weight': 3}),\n",
       " (4147, 4162, {'weight': 8}),\n",
       " (4147, 4159, {'weight': 16}),\n",
       " (4147, 3064, {'weight': 3}),\n",
       " (4174, 4157, {'weight': 8}),\n",
       " (4174, 4162, {'weight': 35}),\n",
       " (4174, 4181, {'weight': 8}),\n",
       " (4174, 4150, {'weight': 6}),\n",
       " (4174, 4155, {'weight': 4}),\n",
       " (4174, 4146, {'weight': 5}),\n",
       " (4174, 4153, {'weight': 4}),\n",
       " (4174, 4169, {'weight': 1}),\n",
       " (4174, 4174, {'weight': 6}),\n",
       " (4174, 4170, {'weight': 6}),\n",
       " (4174, 4183, {'weight': 15}),\n",
       " (4174, 4177, {'weight': 1}),\n",
       " (4174, 4154, {'weight': 3}),\n",
       " (4174, 4163, {'weight': 3}),\n",
       " (4174, 4148, {'weight': 3}),\n",
       " (4174, 4166, {'weight': 9}),\n",
       " (4174, 4138, {'weight': 3}),\n",
       " (4174, 4144, {'weight': 18}),\n",
       " (4174, 4151, {'weight': 1}),\n",
       " (4174, 4167, {'weight': 3}),\n",
       " (4174, 4142, {'weight': 1}),\n",
       " (4174, 4149, {'weight': 2}),\n",
       " (4174, 4159, {'weight': 1}),\n",
       " (4157, 4162, {'weight': 15}),\n",
       " (4157, 4176, {'weight': 28}),\n",
       " (4157, 4177, {'weight': 12}),\n",
       " (4157, 4157, {'weight': 8}),\n",
       " (4157, 4169, {'weight': 3}),\n",
       " (4157, 4163, {'weight': 13}),\n",
       " (4157, 4180, {'weight': 23}),\n",
       " (4157, 4138, {'weight': 12}),\n",
       " (4157, 4166, {'weight': 3}),\n",
       " (4157, 4151, {'weight': 7}),\n",
       " (4157, 4165, {'weight': 10}),\n",
       " (4157, 4156, {'weight': 2}),\n",
       " (4157, 4155, {'weight': 4}),\n",
       " (4157, 4153, {'weight': 2}),\n",
       " (4157, 4167, {'weight': 3}),\n",
       " (4157, 4150, {'weight': 2}),\n",
       " (4157, 4146, {'weight': 1}),\n",
       " (4157, 4159, {'weight': 9}),\n",
       " (4157, 4158, {'weight': 2}),\n",
       " (4157, 4183, {'weight': 3}),\n",
       " (4157, 4142, {'weight': 2}),\n",
       " (4157, 4144, {'weight': 1}),\n",
       " (4157, 4149, {'weight': 1}),\n",
       " (4157, 4170, {'weight': 1}),\n",
       " (4162, 4176, {'weight': 12}),\n",
       " (4162, 4163, {'weight': 7}),\n",
       " (4162, 4155, {'weight': 8}),\n",
       " (4162, 4159, {'weight': 14}),\n",
       " (4162, 4169, {'weight': 69}),\n",
       " (4162, 4149, {'weight': 7}),\n",
       " (4162, 4152, {'weight': 44}),\n",
       " (4162, 4150, {'weight': 49}),\n",
       " (4162, 4151, {'weight': 25}),\n",
       " (4162, 4177, {'weight': 56}),\n",
       " (4162, 4181, {'weight': 42}),\n",
       " (4162, 4166, {'weight': 4}),\n",
       " (4162, 4154, {'weight': 53}),\n",
       " (4162, 4142, {'weight': 17}),\n",
       " (4162, 4162, {'weight': 47}),\n",
       " (4162, 4153, {'weight': 16}),\n",
       " (4162, 4144, {'weight': 44}),\n",
       " (4162, 4160, {'weight': 26}),\n",
       " (4162, 4156, {'weight': 12}),\n",
       " (4162, 4158, {'weight': 1}),\n",
       " (4162, 4138, {'weight': 11}),\n",
       " (4162, 4180, {'weight': 3}),\n",
       " (4162, 4148, {'weight': 10}),\n",
       " (4162, 4165, {'weight': 14}),\n",
       " (4162, 4167, {'weight': 4}),\n",
       " (4162, 4183, {'weight': 7}),\n",
       " (4162, 4146, {'weight': 6}),\n",
       " (4162, 4170, {'weight': 1}),\n",
       " (4162, 3066, {'weight': 1}),\n",
       " (3013, 3013, {'weight': 18}),\n",
       " (3013, 4131, {'weight': 2}),\n",
       " (3013, 4135, {'weight': 1}),\n",
       " (3013, 3016, {'weight': 1}),\n",
       " (3013, 4125, {'weight': 2}),\n",
       " (3013, 4134, {'weight': 2}),\n",
       " (3013, 3005, {'weight': 1}),\n",
       " (3013, 4136, {'weight': 2}),\n",
       " (3029, 3055, {'weight': 21}),\n",
       " (3029, 3019, {'weight': 17}),\n",
       " (3029, 3029, {'weight': 96}),\n",
       " (3029, 3031, {'weight': 27}),\n",
       " (3029, 3067, {'weight': 55}),\n",
       " (3029, 3016, {'weight': 19}),\n",
       " (3029, 3023, {'weight': 22}),\n",
       " (3029, 3005, {'weight': 97}),\n",
       " (3029, 3064, {'weight': 44}),\n",
       " (3029, 3049, {'weight': 53}),\n",
       " (3029, 3042, {'weight': 96}),\n",
       " (3029, 3022, {'weight': 53}),\n",
       " (3029, 3054, {'weight': 24}),\n",
       " (3029, 3047, {'weight': 13}),\n",
       " (3029, 3030, {'weight': 130}),\n",
       " (3029, 3062, {'weight': 68}),\n",
       " (3029, 3074, {'weight': 16}),\n",
       " (3029, 3032, {'weight': 55}),\n",
       " (3029, 3006, {'weight': 35}),\n",
       " (3029, 3076, {'weight': 17}),\n",
       " (3029, 3035, {'weight': 8}),\n",
       " (3029, 3040, {'weight': 26}),\n",
       " (3029, 3038, {'weight': 24}),\n",
       " (3029, 3069, {'weight': 39}),\n",
       " (3029, 4249, {'weight': 10}),\n",
       " (3029, 3051, {'weight': 13}),\n",
       " (3029, 3027, {'weight': 15}),\n",
       " (3029, 3075, {'weight': 16}),\n",
       " (3029, 3045, {'weight': 7}),\n",
       " (3029, 3052, {'weight': 3}),\n",
       " (3029, 3066, {'weight': 23}),\n",
       " (3029, 3007, {'weight': 64}),\n",
       " (3029, 3008, {'weight': 60}),\n",
       " (3029, 3014, {'weight': 36}),\n",
       " (3029, 3063, {'weight': 33}),\n",
       " (3029, 3048, {'weight': 29}),\n",
       " (3029, 3046, {'weight': 9}),\n",
       " (3029, 3057, {'weight': 2}),\n",
       " (3029, 3018, {'weight': 5}),\n",
       " (3029, 3034, {'weight': 5}),\n",
       " (3029, 3065, {'weight': 17}),\n",
       " (3029, 3033, {'weight': 14}),\n",
       " (3029, 3026, {'weight': 13}),\n",
       " (3029, 4246, {'weight': 4}),\n",
       " (3029, 3036, {'weight': 13}),\n",
       " (3029, 3056, {'weight': 2}),\n",
       " (3029, 3068, {'weight': 8}),\n",
       " (3029, 3024, {'weight': 2}),\n",
       " (3029, 3037, {'weight': 9}),\n",
       " (3029, 3078, {'weight': 1}),\n",
       " (3029, 3010, {'weight': 2}),\n",
       " (3029, 3028, {'weight': 5}),\n",
       " (3029, 3011, {'weight': 12}),\n",
       " (3029, 3077, {'weight': 21}),\n",
       " (3029, 3081, {'weight': 1}),\n",
       " (3029, 4245, {'weight': 1}),\n",
       " (3029, 4220, {'weight': 6}),\n",
       " (3029, 3025, {'weight': 1}),\n",
       " (3069, 3075, {'weight': 188}),\n",
       " (3069, 3069, {'weight': 185}),\n",
       " (3069, 3007, {'weight': 78}),\n",
       " (3069, 3008, {'weight': 73}),\n",
       " (3069, 3048, {'weight': 126}),\n",
       " (3069, 3030, {'weight': 233}),\n",
       " (3069, 3022, {'weight': 172}),\n",
       " (3069, 3063, {'weight': 45}),\n",
       " (3069, 3074, {'weight': 45}),\n",
       " (3069, 3066, {'weight': 99}),\n",
       " (3069, 3042, {'weight': 129}),\n",
       " (3069, 3005, {'weight': 146}),\n",
       " (3069, 3014, {'weight': 131}),\n",
       " (3069, 3077, {'weight': 24}),\n",
       " (3069, 3051, {'weight': 72}),\n",
       " (3069, 3019, {'weight': 59}),\n",
       " (3069, 3062, {'weight': 241}),\n",
       " (3069, 3006, {'weight': 89}),\n",
       " (3069, 3049, {'weight': 141}),\n",
       " (3069, 3038, {'weight': 43}),\n",
       " (3069, 3067, {'weight': 80}),\n",
       " (3069, 3055, {'weight': 56}),\n",
       " (3069, 3031, {'weight': 125}),\n",
       " (3069, 3028, {'weight': 29}),\n",
       " (3069, 3056, {'weight': 9}),\n",
       " (3069, 3018, {'weight': 56}),\n",
       " (3069, 3034, {'weight': 36}),\n",
       " (3069, 3078, {'weight': 37}),\n",
       " (3069, 3040, {'weight': 23}),\n",
       " (3069, 3064, {'weight': 80}),\n",
       " (3069, 3068, {'weight': 65}),\n",
       " (3069, 3046, {'weight': 46}),\n",
       " (3069, 3032, {'weight': 24}),\n",
       " (3069, 3054, {'weight': 19}),\n",
       " (3069, 3035, {'weight': 31}),\n",
       " (3069, 3011, {'weight': 35}),\n",
       " (3069, 3023, {'weight': 102}),\n",
       " (3069, 3024, {'weight': 19}),\n",
       " (3069, 3026, {'weight': 46}),\n",
       " (3069, 3033, {'weight': 11}),\n",
       " (3069, 3047, {'weight': 37}),\n",
       " (3069, 3036, {'weight': 24}),\n",
       " (3069, 4220, {'weight': 25}),\n",
       " (3069, 3065, {'weight': 37}),\n",
       " (3069, 3076, {'weight': 32}),\n",
       " (3069, 3052, {'weight': 33}),\n",
       " (3069, 3016, {'weight': 24}),\n",
       " (3069, 3027, {'weight': 23}),\n",
       " (3069, 3037, {'weight': 16}),\n",
       " (3069, 3057, {'weight': 5}),\n",
       " (3069, 3020, {'weight': 7}),\n",
       " (3069, 4249, {'weight': 7}),\n",
       " (3069, 4227, {'weight': 5}),\n",
       " (3069, 4254, {'weight': 1}),\n",
       " (3069, 4245, {'weight': 1}),\n",
       " (3069, 3081, {'weight': 4}),\n",
       " (3069, 4202, {'weight': 2}),\n",
       " (3069, 4250, {'weight': 3}),\n",
       " (3069, 3010, {'weight': 9}),\n",
       " (3069, 4248, {'weight': 1}),\n",
       " (3075, 3063, {'weight': 29}),\n",
       " (3075, 3019, {'weight': 102}),\n",
       " (3075, 3035, {'weight': 36}),\n",
       " (3075, 3031, {'weight': 72}),\n",
       " (3075, 3034, {'weight': 148}),\n",
       " (3075, 4220, {'weight': 8}),\n",
       " (3075, 3064, {'weight': 154}),\n",
       " (3075, 3074, {'weight': 95}),\n",
       " (3075, 3075, {'weight': 154}),\n",
       " (3075, 3005, {'weight': 400}),\n",
       " (3075, 3042, {'weight': 80}),\n",
       " (3075, 3054, {'weight': 94}),\n",
       " (3075, 4227, {'weight': 69}),\n",
       " (3075, 3038, {'weight': 128}),\n",
       " (3075, 3006, {'weight': 90}),\n",
       " (3075, 3051, {'weight': 55}),\n",
       " (3075, 3027, {'weight': 26}),\n",
       " (3075, 3067, {'weight': 56}),\n",
       " (3075, 3062, {'weight': 23}),\n",
       " (3075, 3047, {'weight': 79}),\n",
       " (3075, 3022, {'weight': 63}),\n",
       " (3075, 3052, {'weight': 29}),\n",
       " (3075, 3023, {'weight': 29}),\n",
       " (3075, 3030, {'weight': 43}),\n",
       " (3075, 3046, {'weight': 19}),\n",
       " (3075, 3008, {'weight': 59}),\n",
       " (3075, 3007, {'weight': 30}),\n",
       " (3075, 3077, {'weight': 27}),\n",
       " (3075, 3036, {'weight': 7}),\n",
       " (3075, 3032, {'weight': 39}),\n",
       " (3075, 3045, {'weight': 3}),\n",
       " (3075, 3076, {'weight': 19}),\n",
       " (3075, 3048, {'weight': 10}),\n",
       " (3075, 3010, {'weight': 27}),\n",
       " (3075, 4254, {'weight': 1}),\n",
       " (3075, 3033, {'weight': 29}),\n",
       " (3075, 3057, {'weight': 2}),\n",
       " (3075, 3025, {'weight': 24}),\n",
       " (3075, 3026, {'weight': 4}),\n",
       " (3075, 3056, {'weight': 16}),\n",
       " (3075, 3014, {'weight': 14}),\n",
       " (3075, 3011, {'weight': 22}),\n",
       " (3075, 3028, {'weight': 5}),\n",
       " (3075, 3068, {'weight': 21}),\n",
       " (3075, 3018, {'weight': 41}),\n",
       " (3075, 3055, {'weight': 17}),\n",
       " (3075, 3040, {'weight': 13}),\n",
       " (3075, 3020, {'weight': 5}),\n",
       " (3075, 3049, {'weight': 15}),\n",
       " (3075, 4245, {'weight': 14}),\n",
       " (3075, 4249, {'weight': 18}),\n",
       " (3075, 4248, {'weight': 2}),\n",
       " (3075, 3081, {'weight': 2}),\n",
       " (3075, 3024, {'weight': 7}),\n",
       " (3075, 3065, {'weight': 7}),\n",
       " (3075, 3078, {'weight': 3}),\n",
       " (3075, 3066, {'weight': 5}),\n",
       " (3075, 3016, {'weight': 1}),\n",
       " (3075, 3037, {'weight': 6}),\n",
       " (3075, 4250, {'weight': 1}),\n",
       " (3075, 4246, {'weight': 1}),\n",
       " (3075, 4267, {'weight': 2}),\n",
       " (3067, 3062, {'weight': 36}),\n",
       " (3067, 3066, {'weight': 62}),\n",
       " (3067, 3008, {'weight': 121}),\n",
       " (3067, 3054, {'weight': 22}),\n",
       " (3067, 3042, {'weight': 80}),\n",
       " (3067, 3005, {'weight': 492}),\n",
       " (3067, 3023, {'weight': 35}),\n",
       " (3067, 3033, {'weight': 68}),\n",
       " (3067, 3067, {'weight': 156}),\n",
       " (3067, 3047, {'weight': 28}),\n",
       " (3067, 3030, {'weight': 148}),\n",
       " (3067, 3035, {'weight': 51}),\n",
       " (3067, 3006, {'weight': 118}),\n",
       " (3067, 3014, {'weight': 110}),\n",
       " (3067, 3031, {'weight': 79}),\n",
       " (3067, 3055, {'weight': 62}),\n",
       " (3067, 3036, {'weight': 24}),\n",
       " (3067, 3064, {'weight': 147}),\n",
       " (3067, 3074, {'weight': 74}),\n",
       " (3067, 3076, {'weight': 42}),\n",
       " (3067, 3045, {'weight': 4}),\n",
       " (3067, 3007, {'weight': 82}),\n",
       " (3067, 3018, {'weight': 42}),\n",
       " (3067, 3051, {'weight': 37}),\n",
       " (3067, 3063, {'weight': 36}),\n",
       " (3067, 3037, {'weight': 19}),\n",
       " (3067, 3038, {'weight': 58}),\n",
       " (3067, 3046, {'weight': 34}),\n",
       " (3067, 3022, {'weight': 40}),\n",
       " (3067, 3027, {'weight': 80}),\n",
       " (3067, 3034, {'weight': 53}),\n",
       " (3067, 3040, {'weight': 15}),\n",
       " (3067, 3065, {'weight': 15}),\n",
       " (3067, 3032, {'weight': 74}),\n",
       " (3067, 3068, {'weight': 30}),\n",
       " (3067, 3028, {'weight': 7}),\n",
       " (3067, 3019, {'weight': 47}),\n",
       " (3067, 3020, {'weight': 3}),\n",
       " (3067, 3011, {'weight': 3}),\n",
       " (3067, 3077, {'weight': 13}),\n",
       " (3067, 3081, {'weight': 19}),\n",
       " (3067, 3052, {'weight': 8}),\n",
       " (3067, 3016, {'weight': 12}),\n",
       " (3067, 3026, {'weight': 9}),\n",
       " (3067, 4249, {'weight': 26}),\n",
       " (3067, 3049, {'weight': 25}),\n",
       " (3067, 3078, {'weight': 5}),\n",
       " (3067, 3048, {'weight': 29}),\n",
       " (3067, 4246, {'weight': 12}),\n",
       " (3067, 4220, {'weight': 10}),\n",
       " (3067, 3024, {'weight': 3}),\n",
       " (3067, 4248, {'weight': 2}),\n",
       " (3067, 3056, {'weight': 3}),\n",
       " (3067, 4250, {'weight': 2}),\n",
       " (3067, 4227, {'weight': 3}),\n",
       " (3067, 3010, {'weight': 6}),\n",
       " (3067, 3057, {'weight': 2}),\n",
       " (3067, 4245, {'weight': 28}),\n",
       " (3067, 4267, {'weight': 1}),\n",
       " (3067, 3025, {'weight': 5}),\n",
       " (3062, 3052, {'weight': 17}),\n",
       " (3062, 3005, {'weight': 61}),\n",
       " (3062, 3051, {'weight': 64}),\n",
       " (3062, 3018, {'weight': 10}),\n",
       " (3062, 3042, {'weight': 31}),\n",
       " (3062, 3006, {'weight': 42}),\n",
       " (3062, 3062, {'weight': 95}),\n",
       " (3062, 3054, {'weight': 15}),\n",
       " (3062, 3068, {'weight': 28}),\n",
       " (3062, 3027, {'weight': 22}),\n",
       " (3062, 3038, {'weight': 56}),\n",
       " (3062, 3034, {'weight': 19}),\n",
       " (3062, 3022, {'weight': 90}),\n",
       " (3062, 3019, {'weight': 10}),\n",
       " (3062, 3014, {'weight': 125}),\n",
       " (3062, 3008, {'weight': 20}),\n",
       " (3062, 3066, {'weight': 11}),\n",
       " (3062, 3007, {'weight': 16}),\n",
       " (3062, 3077, {'weight': 29}),\n",
       " (3062, 3030, {'weight': 27}),\n",
       " (3062, 3036, {'weight': 11}),\n",
       " (3062, 3032, {'weight': 25}),\n",
       " (3062, 3011, {'weight': 5}),\n",
       " (3062, 3063, {'weight': 33}),\n",
       " (3062, 3046, {'weight': 45}),\n",
       " (3062, 3065, {'weight': 11}),\n",
       " (3062, 3033, {'weight': 38}),\n",
       " (3062, 3057, {'weight': 3}),\n",
       " (3062, 3031, {'weight': 54}),\n",
       " (3062, 3035, {'weight': 21}),\n",
       " (3062, 3055, {'weight': 30}),\n",
       " (3062, 3064, {'weight': 46}),\n",
       " (3062, 3049, {'weight': 16}),\n",
       " (3062, 3023, {'weight': 15}),\n",
       " (3062, 3074, {'weight': 21}),\n",
       " (3062, 3056, {'weight': 3}),\n",
       " (3062, 3078, {'weight': 3}),\n",
       " (3062, 3076, {'weight': 16}),\n",
       " (3062, 3024, {'weight': 2}),\n",
       " (3062, 3048, {'weight': 16}),\n",
       " (3062, 3016, {'weight': 12}),\n",
       " (3062, 4227, {'weight': 4}),\n",
       " (3062, 4220, {'weight': 2}),\n",
       " (3062, 4254, {'weight': 2}),\n",
       " (3062, 3081, {'weight': 1}),\n",
       " (3062, 3037, {'weight': 8}),\n",
       " (3062, 4249, {'weight': 2}),\n",
       " (3062, 3047, {'weight': 10}),\n",
       " (3062, 3040, {'weight': 2}),\n",
       " (3062, 3010, {'weight': 1}),\n",
       " (3062, 3028, {'weight': 1}),\n",
       " (3034, 3074, {'weight': 65}),\n",
       " (3034, 3049, {'weight': 6}),\n",
       " (3034, 3034, {'weight': 95}),\n",
       " (3034, 4227, {'weight': 9}),\n",
       " (3034, 3031, {'weight': 97}),\n",
       " (3034, 3005, {'weight': 172}),\n",
       " (3034, 3032, {'weight': 185}),\n",
       " (3034, 3030, {'weight': 68}),\n",
       " (3034, 3047, {'weight': 36}),\n",
       " (3034, 3064, {'weight': 127}),\n",
       " (3034, 3035, {'weight': 96}),\n",
       " (3034, 3038, {'weight': 26}),\n",
       " (3034, 3007, {'weight': 148}),\n",
       " (3034, 3063, {'weight': 27}),\n",
       " (3034, 3042, {'weight': 21}),\n",
       " (3034, 3011, {'weight': 17}),\n",
       " (3034, 3048, {'weight': 9}),\n",
       " (3034, 3033, {'weight': 27}),\n",
       " (3034, 3045, {'weight': 2}),\n",
       " (3034, 3077, {'weight': 7}),\n",
       " (3034, 3068, {'weight': 66}),\n",
       " (3034, 3051, {'weight': 34}),\n",
       " (3034, 3055, {'weight': 26}),\n",
       " (3034, 3019, {'weight': 33}),\n",
       " (3034, 3056, {'weight': 25}),\n",
       " (3034, 3052, {'weight': 17}),\n",
       " (3034, 3081, {'weight': 1}),\n",
       " (3034, 3008, {'weight': 93}),\n",
       " (3034, 3006, {'weight': 102}),\n",
       " (3034, 3025, {'weight': 7}),\n",
       " (3034, 3014, {'weight': 23}),\n",
       " (3034, 3027, {'weight': 25}),\n",
       " (3034, 3016, {'weight': 30}),\n",
       " (3034, 3018, {'weight': 18}),\n",
       " (3034, 3020, {'weight': 3}),\n",
       " (3034, 3023, {'weight': 6}),\n",
       " (3034, 4220, {'weight': 6}),\n",
       " (3034, 3076, {'weight': 37}),\n",
       " (3034, 3046, {'weight': 10}),\n",
       " (3034, 3024, {'weight': 3}),\n",
       " (3034, 3037, {'weight': 4}),\n",
       " (3034, 4246, {'weight': 4}),\n",
       " (3034, 4244, {'weight': 3}),\n",
       " (3034, 4245, {'weight': 8}),\n",
       " (3034, 3010, {'weight': 6}),\n",
       " (3034, 3026, {'weight': 1}),\n",
       " (3034, 3057, {'weight': 10}),\n",
       " (3034, 3022, {'weight': 5}),\n",
       " (3034, 3078, {'weight': 2}),\n",
       " (3034, 3040, {'weight': 10}),\n",
       " (3034, 4248, {'weight': 6}),\n",
       " (3034, 3065, {'weight': 3}),\n",
       " (3034, 4249, {'weight': 12}),\n",
       " (3034, 3066, {'weight': 5}),\n",
       " (3034, 4254, {'weight': 2}),\n",
       " (3034, 3036, {'weight': 3}),\n",
       " (3034, 3028, {'weight': 1}),\n",
       " (3034, 4267, {'weight': 2}),\n",
       " (3074, 3047, {'weight': 210}),\n",
       " (3074, 3051, {'weight': 34}),\n",
       " (3074, 3005, {'weight': 141}),\n",
       " (3074, 3057, {'weight': 15}),\n",
       " (3074, 3031, {'weight': 123}),\n",
       " (3074, 3042, {'weight': 27}),\n",
       " (3074, 3063, {'weight': 49}),\n",
       " (3074, 3018, {'weight': 28}),\n",
       " (3074, 3064, {'weight': 58}),\n",
       " (3074, 3014, {'weight': 17}),\n",
       " (3074, 3055, {'weight': 42}),\n",
       " (3074, 3040, {'weight': 17}),\n",
       " (3074, 3074, {'weight': 89}),\n",
       " (3074, 3038, {'weight': 77}),\n",
       " (3074, 3011, {'weight': 33}),\n",
       " (3074, 3076, {'weight': 49}),\n",
       " (3074, 3056, {'weight': 52}),\n",
       " (3074, 3030, {'weight': 26}),\n",
       " (3074, 3032, {'weight': 73}),\n",
       " (3074, 3028, {'weight': 12}),\n",
       " (3074, 3035, {'weight': 26}),\n",
       " (3074, 3019, {'weight': 105}),\n",
       " (3074, 3006, {'weight': 40}),\n",
       " (3074, 3027, {'weight': 9}),\n",
       " (3074, 3008, {'weight': 32}),\n",
       " (3074, 3077, {'weight': 34}),\n",
       " (3074, 3033, {'weight': 18}),\n",
       " (3074, 3026, {'weight': 9}),\n",
       " (3074, 3023, {'weight': 10}),\n",
       " (3074, 3068, {'weight': 30}),\n",
       " (3074, 3045, {'weight': 7}),\n",
       " (3074, 3036, {'weight': 5}),\n",
       " (3074, 4227, {'weight': 8}),\n",
       " (3074, 3007, {'weight': 48}),\n",
       " (3074, 4246, {'weight': 9}),\n",
       " (3074, 3016, {'weight': 2}),\n",
       " (3074, 3046, {'weight': 9}),\n",
       " (3074, 3022, {'weight': 16}),\n",
       " (3074, 3065, {'weight': 12}),\n",
       " (3074, 4249, {'weight': 13}),\n",
       " (3074, 3048, {'weight': 10}),\n",
       " (3074, 4245, {'weight': 3}),\n",
       " (3074, 3037, {'weight': 4}),\n",
       " (3074, 3052, {'weight': 15}),\n",
       " (3074, 4220, {'weight': 4}),\n",
       " (3074, 3010, {'weight': 13}),\n",
       " (3074, 3066, {'weight': 6}),\n",
       " (3074, 3054, {'weight': 5}),\n",
       " (3074, 3049, {'weight': 38}),\n",
       " (3074, 3081, {'weight': 3}),\n",
       " (3074, 4248, {'weight': 3}),\n",
       " (3074, 3078, {'weight': 6}),\n",
       " (3074, 3020, {'weight': 1}),\n",
       " (3074, 4267, {'weight': 1}),\n",
       " (3074, 4212, {'weight': 2}),\n",
       " (3074, 3025, {'weight': 2}),\n",
       " (3074, 3024, {'weight': 1}),\n",
       " (3074, 4254, {'weight': 2}),\n",
       " (3074, 4250, {'weight': 1}),\n",
       " (3008, 3049, {'weight': 59}),\n",
       " (3008, 3031, {'weight': 245}),\n",
       " (3008, 3052, {'weight': 40}),\n",
       " (3008, 3057, {'weight': 15}),\n",
       " (3008, 3047, {'weight': 69}),\n",
       " (3008, 3035, {'weight': 61}),\n",
       " (3008, 3030, {'weight': 30}),\n",
       " (3008, 3011, {'weight': 174}),\n",
       " (3008, 3020, {'weight': 6}),\n",
       " (3008, 3014, {'weight': 116}),\n",
       " (3008, 3005, {'weight': 195}),\n",
       " (3008, 3064, {'weight': 202}),\n",
       " (3008, 3008, {'weight': 143}),\n",
       " (3008, 3038, {'weight': 84}),\n",
       " (3008, 3032, {'weight': 58}),\n",
       " (3008, 3063, {'weight': 36}),\n",
       " (3008, 3025, {'weight': 12}),\n",
       " (3008, 4244, {'weight': 1}),\n",
       " (3008, 3006, {'weight': 76}),\n",
       " (3008, 4246, {'weight': 21}),\n",
       " (3008, 3026, {'weight': 52}),\n",
       " (3008, 3076, {'weight': 58}),\n",
       " (3008, 3007, {'weight': 108}),\n",
       " (3008, 3068, {'weight': 29}),\n",
       " (3008, 3023, {'weight': 18}),\n",
       " (3008, 3048, {'weight': 11}),\n",
       " (3008, 4254, {'weight': 12}),\n",
       " (3008, 3055, {'weight': 31}),\n",
       " (3008, 3022, {'weight': 20}),\n",
       " (3008, 4249, {'weight': 36}),\n",
       " (3008, 3042, {'weight': 33}),\n",
       " (3008, 4248, {'weight': 17}),\n",
       " (3008, 4250, {'weight': 49}),\n",
       " (3008, 3019, {'weight': 127}),\n",
       " (3008, 3056, {'weight': 12}),\n",
       " (3008, 3040, {'weight': 45}),\n",
       " (3008, 3046, {'weight': 12}),\n",
       " (3008, 3066, {'weight': 8}),\n",
       " (3008, 3018, {'weight': 24}),\n",
       " (3008, 4220, {'weight': 14}),\n",
       " (3008, 3033, {'weight': 15}),\n",
       " (3008, 3054, {'weight': 6}),\n",
       " (3008, 3051, {'weight': 46}),\n",
       " (3008, 3024, {'weight': 13}),\n",
       " (3008, 3028, {'weight': 15}),\n",
       " (3008, 3077, {'weight': 12}),\n",
       " (3008, 3016, {'weight': 10}),\n",
       " (3008, 3027, {'weight': 13}),\n",
       " (3008, 4245, {'weight': 12}),\n",
       " (3008, 3078, {'weight': 4}),\n",
       " (3008, 3037, {'weight': 5}),\n",
       " (3008, 3036, {'weight': 14}),\n",
       " (3008, 3010, {'weight': 13}),\n",
       " (3008, 3081, {'weight': 5}),\n",
       " (3008, 3045, {'weight': 4}),\n",
       " (3008, 4205, {'weight': 1}),\n",
       " (3008, 4227, {'weight': 2}),\n",
       " (3008, 4267, {'weight': 3}),\n",
       " (3008, 3065, {'weight': 3}),\n",
       " (3008, 4210, {'weight': 3}),\n",
       " (3049, 3016, {'weight': 5}),\n",
       " (3049, 3036, {'weight': 2}),\n",
       " (3049, 3005, {'weight': 224}),\n",
       " (3049, 3049, {'weight': 128}),\n",
       " (3049, 3068, {'weight': 32}),\n",
       " (3049, 3031, {'weight': 41}),\n",
       " (3049, 3052, {'weight': 12}),\n",
       " (3049, 3035, {'weight': 57}),\n",
       " (3049, 3030, {'weight': 40}),\n",
       " (3049, 3046, {'weight': 98}),\n",
       " (3049, 3007, {'weight': 66}),\n",
       " (3049, 3055, {'weight': 9}),\n",
       " (3049, 4220, {'weight': 130}),\n",
       " (3049, 3014, {'weight': 40}),\n",
       " (3049, 3032, {'weight': 88}),\n",
       " (3049, 3051, {'weight': 27}),\n",
       " (3049, 3081, {'weight': 5}),\n",
       " (3049, 3066, {'weight': 52}),\n",
       " (3049, 3064, {'weight': 73}),\n",
       " (3049, 3023, {'weight': 24}),\n",
       " (3049, 3038, {'weight': 17}),\n",
       " (3049, 3006, {'weight': 22}),\n",
       " (3049, 3042, {'weight': 35}),\n",
       " (3049, 3027, {'weight': 19}),\n",
       " (3049, 3026, {'weight': 23}),\n",
       " (3049, 3040, {'weight': 14}),\n",
       " (3049, 3028, {'weight': 7}),\n",
       " (3049, 3065, {'weight': 9}),\n",
       " (3049, 3048, {'weight': 20}),\n",
       " (3049, 3018, {'weight': 17}),\n",
       " (3049, 3011, {'weight': 10}),\n",
       " (3049, 3024, {'weight': 7}),\n",
       " (3049, 3019, {'weight': 41}),\n",
       " (3049, 4245, {'weight': 7}),\n",
       " (3049, 3057, {'weight': 7}),\n",
       " (3049, 3047, {'weight': 1}),\n",
       " (3049, 3022, {'weight': 17}),\n",
       " (3049, 3077, {'weight': 10}),\n",
       " (3049, 3076, {'weight': 2}),\n",
       " (3049, 3033, {'weight': 11}),\n",
       " (3049, 3063, {'weight': 12}),\n",
       " (3049, 4248, {'weight': 1}),\n",
       " (3049, 4246, {'weight': 3}),\n",
       " (3049, 4249, {'weight': 73}),\n",
       " (3049, 3037, {'weight': 5}),\n",
       " (3049, 3056, {'weight': 4}),\n",
       " (3049, 3054, {'weight': 4}),\n",
       " (3049, 3078, {'weight': 4}),\n",
       " (3049, 4227, {'weight': 1}),\n",
       " (4163, 4159, {'weight': 28}),\n",
       " (4163, 4170, {'weight': 66}),\n",
       " (4163, 4180, {'weight': 74}),\n",
       " (4163, 4166, {'weight': 29}),\n",
       " (4163, 4158, {'weight': 20}),\n",
       " (4163, 4144, {'weight': 37}),\n",
       " (4163, 4183, {'weight': 55}),\n",
       " (4163, 4181, {'weight': 12}),\n",
       " (4163, 4176, {'weight': 27}),\n",
       " (4163, 4156, {'weight': 2}),\n",
       " (4163, 4167, {'weight': 1}),\n",
       " (4163, 4163, {'weight': 15}),\n",
       " (4163, 4146, {'weight': 1}),\n",
       " (4163, 4169, {'weight': 2}),\n",
       " (4163, 4142, {'weight': 4}),\n",
       " (4163, 4154, {'weight': 2}),\n",
       " (4163, 4155, {'weight': 10}),\n",
       " (4163, 4149, {'weight': 1}),\n",
       " (4163, 4177, {'weight': 4}),\n",
       " (4163, 4150, {'weight': 1}),\n",
       " (3022, 3078, {'weight': 30}),\n",
       " (3022, 3076, {'weight': 33}),\n",
       " (3022, 3038, {'weight': 66}),\n",
       " (3022, 3027, {'weight': 31}),\n",
       " (3022, 3028, {'weight': 15}),\n",
       " (3022, 3014, {'weight': 114}),\n",
       " (3022, 3065, {'weight': 17}),\n",
       " (3022, 3022, {'weight': 185}),\n",
       " (3022, 3048, {'weight': 76}),\n",
       " (3022, 3079, {'weight': 4}),\n",
       " (3022, 3042, {'weight': 94}),\n",
       " (3022, 3005, {'weight': 93}),\n",
       " (3022, 3010, {'weight': 4}),\n",
       " (3022, 3023, {'weight': 65}),\n",
       " (3022, 3030, {'weight': 105}),\n",
       " (3022, 3046, {'weight': 97}),\n",
       " (3022, 3064, {'weight': 33}),\n",
       " (3022, 4227, {'weight': 3}),\n",
       " (3022, 3031, {'weight': 96}),\n",
       " (3022, 3054, {'weight': 71}),\n",
       " (3022, 3036, {'weight': 196}),\n",
       " (3022, 3037, {'weight': 113}),\n",
       " (3022, 3033, {'weight': 13}),\n",
       " (3022, 3051, {'weight': 19}),\n",
       " (3022, 3068, {'weight': 36}),\n",
       " (3022, 3006, {'weight': 27}),\n",
       " (3022, 3066, {'weight': 21}),\n",
       " (3022, 3032, {'weight': 17}),\n",
       " (3022, 3035, {'weight': 17}),\n",
       " (3022, 3007, {'weight': 18}),\n",
       " (3022, 3045, {'weight': 3}),\n",
       " (3022, 3055, {'weight': 45}),\n",
       " (3022, 3024, {'weight': 10}),\n",
       " (3022, 3026, {'weight': 9}),\n",
       " (3022, 3016, {'weight': 17}),\n",
       " (3022, 3052, {'weight': 8}),\n",
       " (3022, 3063, {'weight': 15}),\n",
       " (3022, 3081, {'weight': 3}),\n",
       " (3022, 3018, {'weight': 5}),\n",
       " (3022, 3077, {'weight': 18}),\n",
       " (3022, 4220, {'weight': 5}),\n",
       " (3022, 4246, {'weight': 2}),\n",
       " (3022, 3040, {'weight': 2}),\n",
       " (3022, 3011, {'weight': 3}),\n",
       " (3022, 3057, {'weight': 1}),\n",
       " (3022, 3025, {'weight': 2}),\n",
       " (3022, 3019, {'weight': 4}),\n",
       " (3022, 4249, {'weight': 1}),\n",
       " (3022, 3047, {'weight': 4}),\n",
       " (3022, 4108, {'weight': 1}),\n",
       " (3078, 3035, {'weight': 1}),\n",
       " (3078, 3014, {'weight': 129}),\n",
       " (3078, 3042, {'weight': 22}),\n",
       " (3078, 3023, {'weight': 23}),\n",
       " (3078, 3068, {'weight': 27}),\n",
       " (3078, 3065, {'weight': 13}),\n",
       " (3078, 3055, {'weight': 4}),\n",
       " (3078, 3078, {'weight': 43}),\n",
       " (3078, 3011, {'weight': 9}),\n",
       " (3078, 3046, {'weight': 13}),\n",
       " (3078, 4220, {'weight': 25}),\n",
       " (3078, 3037, {'weight': 4}),\n",
       " (3078, 3005, {'weight': 39}),\n",
       " (3078, 3066, {'weight': 18}),\n",
       " (3078, 3027, {'weight': 26}),\n",
       " (3078, 3030, {'weight': 19}),\n",
       " (3078, 3026, {'weight': 18}),\n",
       " (3078, 3032, {'weight': 10}),\n",
       " (3078, 3081, {'weight': 5}),\n",
       " (3078, 3051, {'weight': 9}),\n",
       " (3078, 3031, {'weight': 16}),\n",
       " (3078, 3016, {'weight': 10}),\n",
       " (3078, 3007, {'weight': 5}),\n",
       " (3078, 3010, {'weight': 4}),\n",
       " (3078, 3063, {'weight': 7}),\n",
       " (3078, 3064, {'weight': 24}),\n",
       " (3078, 3024, {'weight': 4}),\n",
       " (3078, 3033, {'weight': 2}),\n",
       " (3078, 3028, {'weight': 24}),\n",
       " (3078, 4160, {'weight': 1}),\n",
       " (3078, 3038, {'weight': 7}),\n",
       " (3078, 3077, {'weight': 1}),\n",
       " (3078, 3020, {'weight': 3}),\n",
       " (3078, 3006, {'weight': 6}),\n",
       " (3078, 3052, {'weight': 3}),\n",
       " (3078, 3047, {'weight': 1}),\n",
       " (3078, 3018, {'weight': 6}),\n",
       " (3078, 3048, {'weight': 1}),\n",
       " (3078, 3019, {'weight': 1}),\n",
       " (3078, 4249, {'weight': 1}),\n",
       " (3078, 3036, {'weight': 2}),\n",
       " (3078, 3056, {'weight': 2}),\n",
       " (3078, 3040, {'weight': 1}),\n",
       " (3064, 3031, {'weight': 290}),\n",
       " (3064, 3052, {'weight': 151}),\n",
       " (3064, 3046, {'weight': 112}),\n",
       " (3064, 3007, {'weight': 199}),\n",
       " (3064, 3047, {'weight': 74}),\n",
       " (3064, 3042, {'weight': 50}),\n",
       " (3064, 3006, {'weight': 87}),\n",
       " (3064, 3076, {'weight': 56}),\n",
       " (3064, 3038, {'weight': 119}),\n",
       " (3064, 3019, {'weight': 111}),\n",
       " (3064, 4220, {'weight': 6}),\n",
       " (3064, 3055, {'weight': 61}),\n",
       " (3064, 3066, {'weight': 33}),\n",
       " (3064, 3023, {'weight': 34}),\n",
       " (3064, 3005, {'weight': 212}),\n",
       " (3064, 3030, {'weight': 68}),\n",
       " (3064, 3040, {'weight': 40}),\n",
       " (3064, 3025, {'weight': 7}),\n",
       " (3064, 3064, {'weight': 181}),\n",
       " (3064, 3068, {'weight': 95}),\n",
       " (3064, 3048, {'weight': 51}),\n",
       " (3064, 3011, {'weight': 18}),\n",
       " (3064, 3018, {'weight': 82}),\n",
       " (3064, 3056, {'weight': 54}),\n",
       " (3064, 3032, {'weight': 67}),\n",
       " (3064, 3057, {'weight': 8}),\n",
       " (3064, 3063, {'weight': 39}),\n",
       " (3064, 3051, {'weight': 78}),\n",
       " (3064, 3035, {'weight': 52}),\n",
       " (3064, 3014, {'weight': 16}),\n",
       " (3064, 3026, {'weight': 63}),\n",
       " (3064, 4246, {'weight': 3}),\n",
       " (3064, 3027, {'weight': 86}),\n",
       " (3064, 3077, {'weight': 17}),\n",
       " (3064, 3037, {'weight': 14}),\n",
       " (3064, 3054, {'weight': 6}),\n",
       " (3064, 3020, {'weight': 5}),\n",
       " (3064, 3028, {'weight': 18}),\n",
       " (3064, 3033, {'weight': 14}),\n",
       " (3064, 4249, {'weight': 16}),\n",
       " (3064, 3016, {'weight': 4}),\n",
       " (3064, 4250, {'weight': 6}),\n",
       " (3064, 4227, {'weight': 14}),\n",
       " (3064, 3036, {'weight': 8}),\n",
       " (3064, 3065, {'weight': 16}),\n",
       " (3064, 3024, {'weight': 6}),\n",
       " (3064, 3010, {'weight': 16}),\n",
       " (3064, 3081, {'weight': 2}),\n",
       " (3064, 3045, {'weight': 5}),\n",
       " (3064, 4245, {'weight': 11}),\n",
       " (3064, 4248, {'weight': 1}),\n",
       " (3064, 4215, {'weight': 1}),\n",
       " (3064, 4254, {'weight': 1}),\n",
       " (3031, 3005, {'weight': 696}),\n",
       " (3031, 3019, {'weight': 68}),\n",
       " (3031, 3046, {'weight': 35}),\n",
       " (3031, 3035, {'weight': 76}),\n",
       " (3031, 4220, {'weight': 13}),\n",
       " (3031, 3016, {'weight': 36}),\n",
       " (3031, 3006, {'weight': 205}),\n",
       " (3031, 3031, {'weight': 161}),\n",
       " (3031, 3042, {'weight': 108}),\n",
       " (3031, 3032, {'weight': 148}),\n",
       " (3031, 3081, {'weight': 8}),\n",
       " (3031, 3007, {'weight': 147}),\n",
       " (3031, 3063, {'weight': 88}),\n",
       " (3031, 3048, {'weight': 93}),\n",
       " (3031, 3038, {'weight': 90}),\n",
       " (3031, 3014, {'weight': 75}),\n",
       " (3031, 3030, {'weight': 81}),\n",
       " (3031, 3033, {'weight': 31}),\n",
       " (3031, 3076, {'weight': 30}),\n",
       " (3031, 3040, {'weight': 38}),\n",
       " (3031, 3011, {'weight': 34}),\n",
       " (3031, 3047, {'weight': 33}),\n",
       " (3031, 4249, {'weight': 7}),\n",
       " (3031, 3068, {'weight': 38}),\n",
       " (3031, 3027, {'weight': 32}),\n",
       " (3031, 3051, {'weight': 39}),\n",
       " (3031, 3052, {'weight': 43}),\n",
       " (3031, 3023, {'weight': 25}),\n",
       " (3031, 3024, {'weight': 10}),\n",
       " (3031, 3020, {'weight': 8}),\n",
       " (3031, 3055, {'weight': 43}),\n",
       " (3031, 3026, {'weight': 17}),\n",
       " (3031, 3018, {'weight': 54}),\n",
       " (3031, 3010, {'weight': 23}),\n",
       " (3031, 3037, {'weight': 23}),\n",
       " (3031, 3077, {'weight': 43}),\n",
       " (3031, 3036, {'weight': 37}),\n",
       " (3031, 3065, {'weight': 15}),\n",
       " (3031, 3054, {'weight': 14}),\n",
       " (3031, 3025, {'weight': 5}),\n",
       " (3031, 4244, {'weight': 1}),\n",
       " (3031, 3056, {'weight': 8}),\n",
       " (3031, 4212, {'weight': 1}),\n",
       " (3031, 4245, {'weight': 8}),\n",
       " (3031, 3066, {'weight': 12}),\n",
       " (3031, 3028, {'weight': 5}),\n",
       " (3031, 4227, {'weight': 2}),\n",
       " (3031, 3045, {'weight': 4}),\n",
       " (3031, 3057, {'weight': 2}),\n",
       " (3031, 4211, {'weight': 2}),\n",
       " (3031, 4248, {'weight': 2}),\n",
       " (3031, 4246, {'weight': 3}),\n",
       " (3031, 4254, {'weight': 1}),\n",
       " (4159, 3057, {'weight': 1}),\n",
       " (4159, 4148, {'weight': 5}),\n",
       " (4159, 4176, {'weight': 98}),\n",
       " (4159, 4183, {'weight': 26}),\n",
       " (4159, 4138, {'weight': 24}),\n",
       " (4159, 4166, {'weight': 36}),\n",
       " (4159, 4177, {'weight': 12}),\n",
       " (4159, 4146, {'weight': 14}),\n",
       " (4159, 4159, {'weight': 51}),\n",
       " (4159, 4149, {'weight': 3}),\n",
       " (4159, 4169, {'weight': 33}),\n",
       " (4159, 4158, {'weight': 8}),\n",
       " (4159, 4167, {'weight': 3}),\n",
       " (4159, 4181, {'weight': 56}),\n",
       " (4159, 4151, {'weight': 26}),\n",
       " (4159, 4160, {'weight': 15}),\n",
       " (4159, 4142, {'weight': 58}),\n",
       " (4159, 4170, {'weight': 3}),\n",
       " (4159, 4144, {'weight': 19}),\n",
       " (4159, 4180, {'weight': 17}),\n",
       " (4159, 4154, {'weight': 4}),\n",
       " (4159, 4155, {'weight': 1}),\n",
       " (4159, 4165, {'weight': 7}),\n",
       " (4159, 4152, {'weight': 3}),\n",
       " (4159, 4150, {'weight': 1}),\n",
       " (4159, 4156, {'weight': 3}),\n",
       " (3063, 3038, {'weight': 40}),\n",
       " (3063, 3006, {'weight': 61}),\n",
       " (3063, 3079, {'weight': 2}),\n",
       " (3063, 3063, {'weight': 138}),\n",
       " (3063, 3051, {'weight': 25}),\n",
       " (3063, 3066, {'weight': 22}),\n",
       " (3063, 3068, {'weight': 103}),\n",
       " (3063, 3005, {'weight': 93}),\n",
       " (3063, 3047, {'weight': 51}),\n",
       " (3063, 3042, {'weight': 43}),\n",
       " (3063, 3056, {'weight': 19}),\n",
       " ...]"
      ]
     },
     "execution_count": 31,
     "metadata": {},
     "output_type": "execute_result"
    }
   ],
   "source": [
    "G = nx.Graph()\n",
    "#G.add_edges_from(tuples)\n",
    "\n",
    "def addWeight(G,a,b):\n",
    "    if G.has_edge(a,b):\n",
    "        G[a][b]['weight'] += 1\n",
    "    else:\n",
    "        G.add_edge(a,b,weight=1)\n",
    "      \n",
    "startEnd[['start_station','end_station']].apply(lambda x: addWeight(G, x['start_station'], x['end_station']), axis=1)   \n",
    "\n",
    "list(G.edges(data=True))\n"
   ]
  },
  {
   "cell_type": "markdown",
   "metadata": {},
   "source": [
    "<div class=\"alert alert-block alert-info\">\n",
    "<b>Code for Network with weighted Edges :</b> Due to the number of edges in the network having the weights plotted as well made it very difficult to read. The code has been retained below for future use.\n",
    "\n",
    "<code>pos = nx.spring_layout(G)\n",
    "plt.rcParams[\"figure.figsize\"] = [15, 7]\n",
    "labels = nx.get_edge_attributes(G,'weight')\n",
    "nx.draw_networkx_edge_labels(G,pos,edge_labels=labels, node_size=250,alpha=0.5)\n",
    "plt.show()</code>\n",
    "</div>"
   ]
  },
  {
   "cell_type": "code",
   "execution_count": 32,
   "metadata": {},
   "outputs": [
    {
     "data": {
      "image/png": "[encoded data removed]",
      "text/plain": [
       "<Figure size 1080x504 with 1 Axes>"
      ]
     },
     "metadata": {
      "needs_background": "light"
     },
     "output_type": "display_data"
    }
   ],
   "source": [
    "pos = nx.spring_layout(G)\n",
    "plt.rcParams[\"figure.figsize\"] = [15, 7]\n",
    "nx.draw_networkx(G,layout=pos,node_size=250,alpha=0.5)"
   ]
  },
  {
   "cell_type": "markdown",
   "metadata": {},
   "source": [
    "#### Plot Discussion\n",
    "\n",
    "It is possible to see from the network graph that there are 4 clusters.\n",
    "The largest central cluster is linked by many edges to the two other main clusters whereas the final cluster is linked to the main group by one station: 3013. There are a few outlier stations that are only connected to a few stations in the main group: 3079, 3080, 4108. The majority of the stations are very interconnected as they are clustered together with many edges between them all."
   ]
  },
  {
   "cell_type": "code",
   "execution_count": 33,
   "metadata": {},
   "outputs": [
    {
     "name": "stdout",
     "output_type": "stream",
     "text": [
      "Name: \n",
      "Type: Graph\n",
      "Number of nodes: 127\n",
      "Number of edges: 2601\n",
      "Average degree:  40.9606\n"
     ]
    }
   ],
   "source": [
    "#source [5]\n",
    "print(nx.info(G))"
   ]
  },
  {
   "cell_type": "code",
   "execution_count": 34,
   "metadata": {},
   "outputs": [
    {
     "data": {
      "text/plain": [
       "0.3250843644544432"
      ]
     },
     "execution_count": 34,
     "metadata": {},
     "output_type": "execute_result"
    }
   ],
   "source": [
    "nx.density(G)"
   ]
  },
  {
   "cell_type": "code",
   "execution_count": 35,
   "metadata": {},
   "outputs": [
    {
     "data": {
      "text/plain": [
       "0.8430635412059561"
      ]
     },
     "execution_count": 35,
     "metadata": {},
     "output_type": "execute_result"
    }
   ],
   "source": [
    "nx.transitivity(G)"
   ]
  },
  {
   "cell_type": "code",
   "execution_count": 36,
   "metadata": {},
   "outputs": [
    {
     "data": {
      "image/png": "[encoded data removed]",
      "text/plain": [
       "<Figure size 1080x504 with 1 Axes>"
      ]
     },
     "metadata": {
      "needs_background": "light"
     },
     "output_type": "display_data"
    }
   ],
   "source": [
    "cc = nx.clustering(G)\n",
    "plt.hist(list(cc.values()), bins = 20);"
   ]
  },
  {
   "cell_type": "code",
   "execution_count": 37,
   "metadata": {},
   "outputs": [
    {
     "name": "stdout",
     "output_type": "stream",
     "text": [
      "Top 5 nodes by degree:\n",
      "(3005, 77)\n",
      "(3007, 72)\n",
      "(3008, 70)\n",
      "(3006, 70)\n",
      "(3035, 69)\n"
     ]
    }
   ],
   "source": [
    "degree_dict = dict(G.degree(G.nodes()))\n",
    "nx.set_node_attributes(G, degree_dict, 'degree')\n",
    "sorted_degree = sorted(degree_dict.items(), key=itemgetter(1), reverse=True)\n",
    "\n",
    "print(\"Top 5 nodes by degree:\")\n",
    "for d in sorted_degree[:5]:\n",
    "    print(d)\n",
    "\n",
    "    #top node is a hub"
   ]
  },
  {
   "cell_type": "code",
   "execution_count": 38,
   "metadata": {},
   "outputs": [
    {
     "name": "stdout",
     "output_type": "stream",
     "text": [
      "Top 5 nodes by Eigen Vector:\n",
      "(3005, 0.14170890638924086)\n",
      "(3007, 0.13972016036511628)\n",
      "(3008, 0.13950395439095434)\n",
      "(3006, 0.13904098488989766)\n",
      "(3035, 0.1381072712648376)\n"
     ]
    }
   ],
   "source": [
    "eigenvector_dict = dict(nx.eigenvector_centrality(G))\n",
    "nx.set_node_attributes(G, eigenvector_dict, 'eigenvector_centrality')\n",
    "sorted_eigenvector = sorted(eigenvector_dict.items(), key=itemgetter(1), reverse=True)\n",
    "\n",
    "print(\"Top 5 nodes by Eigen Vector:\")\n",
    "for d in sorted_eigenvector[:5]:\n",
    "    print(d)\n",
    "    \n",
    "#the closer to 1 the greater the centrality"
   ]
  },
  {
   "cell_type": "code",
   "execution_count": 39,
   "metadata": {},
   "outputs": [
    {
     "name": "stdout",
     "output_type": "stream",
     "text": [
      "Top 5 nodes by Betweenness Centrality:\n",
      "(3013, 0.16198941798941802)\n",
      "(3005, 0.128465383485538)\n",
      "(3066, 0.09982253835198054)\n",
      "(3016, 0.06572903571677007)\n",
      "(3057, 0.052915061528220696)\n"
     ]
    }
   ],
   "source": [
    "betweenness_dict = nx.betweenness_centrality(G)\n",
    "nx.set_node_attributes(G, betweenness_dict, 'betweenness')\n",
    "\n",
    "sorted_betweenness = sorted(betweenness_dict.items(), key=itemgetter(1), reverse=True)\n",
    "\n",
    "print(\"Top 5 nodes by Betweenness Centrality:\")\n",
    "for d in sorted_betweenness[:5]:\n",
    "    print(d)\n"
   ]
  },
  {
   "cell_type": "markdown",
   "metadata": {},
   "source": [
    "#### Network Statistics Discussion\n",
    "\n",
    "There are 127 nodes and 2601 edges in this network. Thst makes the average degree 40.96. Closely related to the average degree is the network density, 0.33, which shows that of all the potential connections 33% of them occur. The transitivity of this network is high, 0.83, suggesting that for all groups of 3 nodes that are possible 83% are connected to each other which supports the interpretation of the network graph; the majority of the networks nodes are interconnected. The clustering coefficent supports this interpretation of the transitivity as we can see that the majority of the data points fall between 0.75 and 1. This gives an overall sense that clustering is present in the network.\n",
    "\n",
    "The 5 nodes with the most degrees are; 3005, 3007, 3008, 3006 and 3035. These are also the top 5 nodes based on Eigenector centrality suggesting that they are all hubs and are also connected to other hubs within the network. From a betweeness connectivity point of view the top 5 nodes are; 3013, 3005, 3066, 3016 and 3057. These are the stations that are broker nodes connecting the main clusters of nodes to the smaller clusters. It is possible to see 3013 working as a broker within the network from the network graph above.\n",
    "\n",
    "source [5]"
   ]
  },
  {
   "cell_type": "markdown",
   "metadata": {},
   "source": [
    "### Load the seeds.csv file into a pandas data frame.\n"
   ]
  },
  {
   "cell_type": "code",
   "execution_count": 40,
   "metadata": {},
   "outputs": [
    {
     "data": {
      "text/html": [
       "<div>\n",
       "<style scoped>\n",
       "    .dataframe tbody tr th:only-of-type {\n",
       "        vertical-align: middle;\n",
       "    }\n",
       "\n",
       "    .dataframe tbody tr th {\n",
       "        vertical-align: top;\n",
       "    }\n",
       "\n",
       "    .dataframe thead th {\n",
       "        text-align: right;\n",
       "    }\n",
       "</style>\n",
       "<table border=\"1\" class=\"dataframe\">\n",
       "  <thead>\n",
       "    <tr style=\"text-align: right;\">\n",
       "      <th></th>\n",
       "      <th>area</th>\n",
       "      <th>perimeter</th>\n",
       "      <th>compactness</th>\n",
       "      <th>length</th>\n",
       "      <th>width</th>\n",
       "      <th>asymmetry</th>\n",
       "      <th>groove length</th>\n",
       "    </tr>\n",
       "  </thead>\n",
       "  <tbody>\n",
       "    <tr>\n",
       "      <th>0</th>\n",
       "      <td>15.26</td>\n",
       "      <td>14.84</td>\n",
       "      <td>0.871</td>\n",
       "      <td>5.763</td>\n",
       "      <td>3.312</td>\n",
       "      <td>2.221</td>\n",
       "      <td>5.220</td>\n",
       "    </tr>\n",
       "    <tr>\n",
       "      <th>1</th>\n",
       "      <td>14.88</td>\n",
       "      <td>14.57</td>\n",
       "      <td>0.881</td>\n",
       "      <td>5.554</td>\n",
       "      <td>3.333</td>\n",
       "      <td>1.018</td>\n",
       "      <td>4.956</td>\n",
       "    </tr>\n",
       "    <tr>\n",
       "      <th>2</th>\n",
       "      <td>14.29</td>\n",
       "      <td>14.09</td>\n",
       "      <td>0.905</td>\n",
       "      <td>5.291</td>\n",
       "      <td>3.337</td>\n",
       "      <td>2.699</td>\n",
       "      <td>4.825</td>\n",
       "    </tr>\n",
       "    <tr>\n",
       "      <th>3</th>\n",
       "      <td>13.84</td>\n",
       "      <td>13.94</td>\n",
       "      <td>0.895</td>\n",
       "      <td>5.324</td>\n",
       "      <td>3.379</td>\n",
       "      <td>2.259</td>\n",
       "      <td>4.805</td>\n",
       "    </tr>\n",
       "    <tr>\n",
       "      <th>4</th>\n",
       "      <td>16.14</td>\n",
       "      <td>14.99</td>\n",
       "      <td>0.903</td>\n",
       "      <td>5.658</td>\n",
       "      <td>3.562</td>\n",
       "      <td>1.355</td>\n",
       "      <td>5.175</td>\n",
       "    </tr>\n",
       "  </tbody>\n",
       "</table>\n",
       "</div>"
      ],
      "text/plain": [
       "    area  perimeter  compactness  length  width  asymmetry  groove length\n",
       "0  15.26      14.84        0.871   5.763  3.312      2.221          5.220\n",
       "1  14.88      14.57        0.881   5.554  3.333      1.018          4.956\n",
       "2  14.29      14.09        0.905   5.291  3.337      2.699          4.825\n",
       "3  13.84      13.94        0.895   5.324  3.379      2.259          4.805\n",
       "4  16.14      14.99        0.903   5.658  3.562      1.355          5.175"
      ]
     },
     "execution_count": 40,
     "metadata": {},
     "output_type": "execute_result"
    }
   ],
   "source": [
    "seedData = pd.read_csv(\"seeds.csv\")\n",
    "seedData.head()"
   ]
  },
  {
   "cell_type": "markdown",
   "metadata": {},
   "source": [
    "### Use scikitlearn to fit a Gaussian mixture model to the data, with 2 components.\n",
    "#### Describe Gaussian mixture models and interpret the results.\n"
   ]
  },
  {
   "cell_type": "markdown",
   "metadata": {},
   "source": [
    "#### Gaussian Mixture Models\n",
    "The Gaussian or Normal ditribution is an example of a continuous parametric distribution with two parameters; mean and standard deviation. By modelling a mixture of Gaussian distributions we can deal with clustering problems as it allows us to work with a combination of distributions. It also allows for more flexible cluster shapes. By using this method it is possible to identify the presence of subsets with in the data. Furthermore, by clustering the data in this way there is typically no way of labelling which data belongs to what cluster. Through the predict function it is possible to estimate the probability of a data point being generated by a specific component in the mixture.\n",
    "\n",
    "Initially, it is necessary to provide a number of mixure components. In the example below 2 components have been used. To determine the number of components it is usual to try different variations and then evaluate what is the best fit for the data. Furthermore, there are several covariance constraint options: spherical, diagonal, tied or full, which yield varied performances. \n",
    "\n",
    "Two advantages of the GMM are speed and the lack of bias in cluster sizes. Two disadvantages of GMM's are the difficulties estimating covariance when the mixtures are small and needing to feed it the ideal number of components, which must be discovered seperately.\n",
    "\n",
    "sources [6,7,8]"
   ]
  },
  {
   "cell_type": "code",
   "execution_count": 41,
   "metadata": {},
   "outputs": [],
   "source": [
    "mixtureModel = GaussianMixture(2)\n",
    "fit = mixtureModel.fit(seedData) #expectation\n",
    "\n",
    "predict = fit.predict(seedData) #maximization\n",
    "#source [9]"
   ]
  },
  {
   "cell_type": "markdown",
   "metadata": {},
   "source": [
    "### Generate a scatter plot of compactness against groove length, showing the resulting cluster membership.\n"
   ]
  },
  {
   "cell_type": "code",
   "execution_count": 47,
   "metadata": {},
   "outputs": [
    {
     "data": {
      "image/png": "[encoded data removed]",
      "text/plain": [
       "<Figure size 360x360 with 1 Axes>"
      ]
     },
     "metadata": {
      "needs_background": "light"
     },
     "output_type": "display_data"
    }
   ],
   "source": [
    "#MAKE IT SMALLER\n",
    "plt.scatter(seedData['compactness'], seedData['groove length'], c = predict)\n",
    "plt.rcParams[\"figure.figsize\"] = [5, 5]\n",
    "plt.ylabel(\"Compactness\")\n",
    "plt.xlabel(\"Groove Length\")\n",
    "plt.show()"
   ]
  },
  {
   "cell_type": "markdown",
   "metadata": {},
   "source": [
    "#### GMM Results\n",
    "\n",
    "By plotting compactness and groove length against the Gaussian Fit prediction two clusters become evident in the above model. \n",
    "\n",
    "The yellow cluster tends to have higher groove length and the purple cluster tends to have lower compactness. There does not seem to be any correlation in either cluster between  compactness and groove length.\n",
    "\n",
    "source [10]"
   ]
  },
  {
   "cell_type": "markdown",
   "metadata": {},
   "source": [
    "### Use an appropriate criterion (or several) to compare Gaussian mixture model clusterings with between 1 and 10 components. \n",
    "#### Discuss the results and suggest the number of clusters you would choose and why."
   ]
  },
  {
   "cell_type": "code",
   "execution_count": 43,
   "metadata": {},
   "outputs": [
    {
     "data": {
      "image/png": "[encoded data removed]",
      "text/plain": [
       "<Figure size 1080x504 with 1 Axes>"
      ]
     },
     "metadata": {
      "needs_background": "light"
     },
     "output_type": "display_data"
    }
   ],
   "source": [
    "model_aic = []\n",
    "model_bic = []\n",
    "\n",
    "for i in range(1,10):\n",
    "    mixtureModelb = GaussianMixture(i)\n",
    "    mixtureModelb.fit(seedData)\n",
    "    model_aic.append(mixtureModelb.aic(seedData))\n",
    "    model_bic.append(mixtureModelb.bic(seedData))\n",
    "\n",
    "plt.rcParams[\"figure.figsize\"] = [15, 7]\n",
    "plt.plot(model_aic, label = \"AIC\")\n",
    "plt.plot(model_bic, label = \"BIC\")\n",
    "plt.legend(loc='best');\n"
   ]
  },
  {
   "cell_type": "markdown",
   "metadata": {},
   "source": [
    "#### Discuss Results\n",
    "\n",
    "When following the AIC it seems that 6 would serve as the best choice for the number of clusters. \n",
    " The BIC on the other hand suggests 2 clusters would be the best option. The final decision regarding clusters should be 2 as the BIC penalises more heavily for more complex models.\n"
   ]
  },
  {
   "cell_type": "markdown",
   "metadata": {},
   "source": [
    "## Sources:\n"
   ]
  },
  {
   "cell_type": "markdown",
   "metadata": {},
   "source": [
    "1. https://dzone.com/articles/pandas-find-rows-where-columnfield-is-null\n",
    "2. https://pandas.pydata.org/pandas-docs/stable/missing_data.html\n",
    "3. https://swcarpentry.github.io/python-novice-gapminder/09-plotting/\n",
    "4. https://scentellegher.github.io/programming/2017/07/15/pandas-groupby-multiple-columns-plot.html\n",
    "5. https://programminghistorian.org/en/lessons/exploring-and-analyzing-network-data-with-python\n",
    "6. https://brilliant.org/wiki/gaussian-mixture-model/\n",
    "7. https://www.kaggle.com/dhanyajothimani/basic-visualization-and-clustering-in-python\n",
    "8. https://home.deib.polimi.it/matteucc/Clustering/tutorial_html/mixture.html\n",
    "9. https://pythonmachinelearning.pro/clustering-with-gaussian-mixture-models/\n",
    "10. https://www.khanacademy.org/math/cc-eighth-grade-math/cc-8th-data/cc-8th-interpreting-scatter-plots/a/clusters-in-scatter-plots\n"
   ]
  }
 ],
 "metadata": {
  "kernelspec": {
   "display_name": "Python 3",
   "language": "python",
   "name": "python3"
  },
  "language_info": {
   "codemirror_mode": {
    "name": "ipython",
    "version": 3
   },
   "file_extension": ".py",
   "mimetype": "text/x-python",
   "name": "python",
   "nbconvert_exporter": "python",
   "pygments_lexer": "ipython3",
   "version": "3.7.0"
  }
 },
 "nbformat": 4,
 "nbformat_minor": 2
}
